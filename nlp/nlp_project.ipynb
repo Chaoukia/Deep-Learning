{
 "cells": [
  {
   "cell_type": "markdown",
   "metadata": {
    "colab_type": "text",
    "id": "mmtpKHr1nHt4"
   },
   "source": [
    "# Deep Learning for NLP - Project"
   ]
  },
  {
   "cell_type": "markdown",
   "metadata": {
    "colab_type": "text",
    "id": "vsTXs-M9nHt-"
   },
   "source": [
    "RULES:\n",
    "\n",
    "* Do not create any additional cell\n",
    "\n",
    "* Fill in the blanks\n",
    "\n",
    "* All cells should be runnable (modulo trivial compatibility bugs that we'd fix)\n",
    "\n",
    "* 4 / 20 points will be allocated to the clarity of your code\n",
    "\n",
    "* Efficient code will have a bonus\n",
    "\n",
    "DELIVERABLE:\n",
    "\n",
    "* this notebook\n",
    "* the predictions of the SST test set\n",
    "\n",
    "DO NOT INCLUDE THE DATASETS IN THE DELIVERABLE.."
   ]
  },
  {
   "cell_type": "code",
   "execution_count": 1,
   "metadata": {
    "colab": {},
    "colab_type": "code",
    "id": "KlBR8LSFnHuB"
   },
   "outputs": [],
   "source": [
    "import io\n",
    "import os\n",
    "import numpy as np\n",
    "import matplotlib.pyplot as plt\n",
    "import scipy\n",
    "from scipy.linalg import svd\n",
    "import warnings\n",
    "warnings.filterwarnings('ignore')\n",
    "%matplotlib inline"
   ]
  },
  {
   "cell_type": "code",
   "execution_count": 2,
   "metadata": {
    "colab": {},
    "colab_type": "code",
    "id": "uXeZ69MMnHuO"
   },
   "outputs": [],
   "source": [
    "# PATH_TO_DATA = \"/content/drive/My Drive/MVA/Deep_Learning/nlp_project/data/\"\n",
    "PATH_TO_DATA = \"data/\""
   ]
  },
  {
   "cell_type": "markdown",
   "metadata": {
    "colab_type": "text",
    "id": "-y936lu7nHua"
   },
   "source": [
    "# 1) Monolingual (English) word embeddings "
   ]
  },
  {
   "cell_type": "code",
   "execution_count": 3,
   "metadata": {
    "colab": {},
    "colab_type": "code",
    "id": "6I5tymWtnHuc"
   },
   "outputs": [],
   "source": [
    "class Word2vec():\n",
    "    def __init__(self, fname, nmax=100000):\n",
    "        self.load_wordvec(fname, nmax)\n",
    "        self.word2id = {v:i for i, v in enumerate(self.word2vec.keys())}\n",
    "        self.id2word = {v: k for k, v in self.word2id.items()}\n",
    "        self.embeddings = list(self.word2vec.values())\n",
    "    \n",
    "    def load_wordvec(self, fname, nmax):\n",
    "        self.word2vec = {}\n",
    "        with io.open(fname, encoding='utf-8') as f:\n",
    "            next(f)\n",
    "            for i, line in enumerate(f):\n",
    "                word, vec = line.split(' ', 1)\n",
    "                self.word2vec[word] = np.fromstring(vec, sep=' ')\n",
    "                if i == (nmax - 1):\n",
    "                    break\n",
    "        print('Loaded %s pretrained word vectors' % (len(self.word2vec)))\n",
    "\n",
    "    def most_similar(self, w, K=5):\n",
    "        # K most similar words: self.score  -  np.argsort\n",
    "        scores = {v:self.score(w, v) for v in self.word2vec.keys()}\n",
    "        scores = sorted(scores.items(), key=lambda kv: kv[1], reverse=True)\n",
    "        scores = scores[:K]\n",
    "        \n",
    "        return [d[0] for d in scores]\n",
    "\n",
    "    def score(self, w1, w2):\n",
    "        # cosine similarity: np.dot  -  np.linalg.norm\n",
    "        w1_vec, w2_vec = self.word2vec[w1], self.word2vec[w2]\n",
    "        return np.dot(w1_vec, w2_vec)/(np.linalg.norm(w1_vec)*np.linalg.norm(w2_vec))\n"
   ]
  },
  {
   "cell_type": "code",
   "execution_count": 4,
   "metadata": {
    "colab": {
     "base_uri": "https://localhost:8080/",
     "height": 212
    },
    "colab_type": "code",
    "id": "0j04zBt-nHuh",
    "outputId": "24d8ffc3-10e7-4f3b-e426-65658e8fdaee"
   },
   "outputs": [
    {
     "name": "stdout",
     "output_type": "stream",
     "text": [
      "Loaded 55000 pretrained word vectors\n",
      "cat dog 0.671683666279249\n",
      "dog pet 0.6842064029669219\n",
      "dogs cats 0.7074389328052404\n",
      "paris france 0.7775108541288563\n",
      "germany berlin 0.7420295235998394\n",
      "['cat', 'cats', 'kitty', 'kitten', 'feline']\n",
      "['dog', 'dogs', 'puppy', 'Dog', 'doggie']\n",
      "['dogs', 'dog', 'Dogs', 'doggies', 'canines']\n",
      "['paris', 'france', 'Paris', 'london', 'berlin']\n",
      "['germany', 'europe', 'german', 'berlin', 'france']\n"
     ]
    }
   ],
   "source": [
    "w2v = Word2vec(os.path.join(PATH_TO_DATA, 'crawl-300d-200k.vec'), nmax=55000)\n",
    "\n",
    "# You will be evaluated on the output of the following:\n",
    "for w1, w2 in zip(('cat', 'dog', 'dogs', 'paris', 'germany'), ('dog', 'pet', 'cats', 'france', 'berlin')):\n",
    "    print(w1, w2, w2v.score(w1, w2))\n",
    "for w1 in ['cat', 'dog', 'dogs', 'paris', 'germany']:\n",
    "    print(w2v.most_similar(w1))"
   ]
  },
  {
   "cell_type": "code",
   "execution_count": 5,
   "metadata": {
    "colab": {},
    "colab_type": "code",
    "id": "65AvHV6nnHuo"
   },
   "outputs": [],
   "source": [
    "class BoV():\n",
    "    def __init__(self, w2v):\n",
    "        self.w2v = w2v\n",
    "    \n",
    "    def encode(self, sentences, idf=False):\n",
    "        # takes a list of sentences, outputs a numpy array of sentence embeddings\n",
    "        sentemb = []\n",
    "        for sent in sentences:\n",
    "#             sent = sent[:-2].split(' ')\n",
    "            sent = sent.replace('\\n', '').split(' ')\n",
    "            if not idf:\n",
    "                # mean of word vectors\n",
    "                sentemb.append(np.nanmean([self.w2v.word2vec.get(v, np.full(300, np.nan)) for v in sent], axis = 0))\n",
    "                \n",
    "            else:\n",
    "                # idf-weighted mean of word vectors\n",
    "                sentemb.append(np.nanmean([self.idf[v]*self.w2v.word2vec.get(v, np.full(300, np.nan)) for v in sent], axis = 0))\n",
    "                \n",
    "        return sentemb\n",
    "\n",
    "    def most_similar(self, s, sentences, idf=False, K=5):\n",
    "        # get most similar sentences and **print** them\n",
    "        scores = [self.score(s, sent, idf) for sent in sentences]\n",
    "        indices = np.argsort(scores)[::-1]\n",
    "        s = [sentences[indices[i + 1]] for i in range(K)]\n",
    "        for x in s:\n",
    "          print(x)\n",
    "          \n",
    "        return s\n",
    "\n",
    "    def score(self, s1, s2, idf=False):\n",
    "        # cosine similarity: use   np.dot  and  np.linalg.norm\n",
    "        s1_encoding, s2_encoding = self.encode([s1], idf)[0], self.encode([s2], idf)[0]\n",
    "        return np.dot(s1_encoding, s2_encoding)/(np.linalg.norm(s1_encoding)*np.linalg.norm(s2_encoding))\n",
    "    \n",
    "    def build_idf(self, sentences):\n",
    "        # build the idf dictionary: associate each word to its idf value\n",
    "        idf = {}\n",
    "        for sent in sentences:\n",
    "          for w in sent.replace('\\n', '').split(' '):\n",
    "            idf[w] = idf.get(w, 0) + 1\n",
    "            \n",
    "        for w in idf:\n",
    "          idf[w] = max(1, np.log10(len(sentences) / idf[w]))\n",
    "          self.idf = idf"
   ]
  },
  {
   "cell_type": "code",
   "execution_count": 6,
   "metadata": {
    "colab": {
     "base_uri": "https://localhost:8080/",
     "height": 407
    },
    "colab_type": "code",
    "id": "bUUeBEuVnHut",
    "outputId": "4445c325-1f3a-42b7-8052-b45e24ea6cce"
   },
   "outputs": [
    {
     "name": "stdout",
     "output_type": "stream",
     "text": [
      "Loaded 50000 pretrained word vectors\n",
      "Without idf, the 5 most similar sentences to : 1 smiling african american boy . \n",
      "an african american man smiling . \n",
      "\n",
      "a little african american boy and girl looking up . \n",
      "\n",
      "an african american in sunglasses and a white tee-shirt smiles . \n",
      "\n",
      "an afican american woman standing behind two small african american children . \n",
      "\n",
      "an african american man is sitting . \n",
      "\n",
      "Without idf, the cosine similarity : 0.5726\n",
      "With idf, the 5 most similar sentences to : 1 smiling african american boy . \n",
      "an african american man smiling . \n",
      "\n",
      "an african american man is sitting . \n",
      "\n",
      "a little african american boy and girl looking up . \n",
      "\n",
      "an afican american woman standing behind two small african american children . \n",
      "\n",
      "an african american woman braiding another african american woman 's hair , while sitting in a white chair . \n",
      "\n",
      "With idf, the cosine similarity : 0.4751\n"
     ]
    }
   ],
   "source": [
    "w2v = Word2vec(os.path.join(PATH_TO_DATA, 'crawl-300d-200k.vec'), nmax=50000)\n",
    "s2v = BoV(w2v)\n",
    "\n",
    "# Load sentences in \"PATH_TO_DATA/sentences.txt\"\n",
    "with open(os.path.join(PATH_TO_DATA, 'sentences.txt')) as f:\n",
    "  sentences = f.readlines()\n",
    "        \n",
    "# Build idf scores for each word\n",
    "s2v.build_idf(sentences)\n",
    "\n",
    "# You will be evaluated on the output of the following:\n",
    "print('Without idf, the 5 most similar sentences to : ' + sentences[10].replace('\\n', ''))\n",
    "s2v.most_similar(sentences[10], sentences)  # BoV-mean\n",
    "print('Without idf, the cosine similarity : %.4f' %s2v.score(sentences[7], sentences[13]))\n",
    "\n",
    "print('With idf, the 5 most similar sentences to : ' + sentences[10].replace('\\n', ''))\n",
    "s2v.most_similar(sentences[10], sentences, True)  # BoV-idf\n",
    "print('With idf, the cosine similarity : %.4f' %s2v.score(sentences[7], sentences[13], True))"
   ]
  },
  {
   "cell_type": "markdown",
   "metadata": {
    "colab_type": "text",
    "id": "qgtHqjRbnHuz"
   },
   "source": [
    "# 2) Multilingual (English-French) word embeddings"
   ]
  },
  {
   "cell_type": "markdown",
   "metadata": {
    "colab_type": "text",
    "id": "mL3Z6BIwnHu1"
   },
   "source": [
    "Let's consider a bilingual dictionary of size V_a (e.g French-English).\n",
    "\n",
    "Let's define **X** and **Y** the **French** and **English** matrices.\n",
    "\n",
    "They contain the embeddings associated to the words in the bilingual dictionary.\n",
    "\n",
    "We want to find a **mapping W** that will project the source word space (e.g French) to the target word space (e.g English).\n",
    "\n",
    "Procrustes : **W\\* = argmin || W.X - Y ||  s.t  W^T.W = Id**\n",
    "has a closed form solution:\n",
    "**W = U.V^T  where  U.Sig.V^T = SVD(Y.X^T)**\n",
    "\n",
    "In what follows, you are asked to: "
   ]
  },
  {
   "cell_type": "code",
   "execution_count": 7,
   "metadata": {
    "colab": {
     "base_uri": "https://localhost:8080/",
     "height": 52
    },
    "colab_type": "code",
    "id": "XFB5pmOknHu2",
    "outputId": "9457bd3c-1b2c-4603-8c7d-0fbfacab9287"
   },
   "outputs": [
    {
     "name": "stdout",
     "output_type": "stream",
     "text": [
      "Loaded 50000 pretrained word vectors\n",
      "Loaded 50000 pretrained word vectors\n"
     ]
    }
   ],
   "source": [
    "# 1 - Download and load 50k first vectors of\n",
    "#     https://s3-us-west-1.amazonaws.com/fasttext-vectors/wiki.en.vec\n",
    "#     https://s3-us-west-1.amazonaws.com/fasttext-vectors/wiki.fr.vec\n",
    "\n",
    "# TYPE CODE HERE\n",
    "\n",
    "!wget https://s3-us-west-1.amazonaws.com/fasttext-vectors/wiki.en.vec\n",
    "!wget https://s3-us-west-1.amazonaws.com/fasttext-vectors/wiki.fr.vec\n",
    "\n",
    "w2v_en = Word2vec('wiki.en.vec', nmax=50000)\n",
    "w2v_fr = Word2vec('wiki.fr.vec', nmax=50000)"
   ]
  },
  {
   "cell_type": "code",
   "execution_count": 8,
   "metadata": {
    "colab": {},
    "colab_type": "code",
    "id": "NGYqwOJUnHu6"
   },
   "outputs": [],
   "source": [
    "# 2 - Get words that appear in both vocabs (= identical character strings)\n",
    "#     Use it to create the matrix X and Y (of aligned embeddings for these words)\n",
    "\n",
    "# TYPE CODE HERE\n",
    "\n",
    "words_common = set(w2v_en.word2vec.keys()).intersection(set(w2v_fr.word2vec.keys()))\n",
    "X = np.array([w2v_fr.word2vec[word] for word in words_common])\n",
    "Y = np.array([w2v_en.word2vec[word] for word in words_common])"
   ]
  },
  {
   "cell_type": "code",
   "execution_count": 9,
   "metadata": {
    "colab": {},
    "colab_type": "code",
    "id": "kZd6FHmJnHu_"
   },
   "outputs": [],
   "source": [
    "# 3 - Solve the Procrustes using the scipy package and: scipy.linalg.svd() and get the optimal W\n",
    "#     Now W*French_vector is in the same space as English_vector\n",
    "\n",
    "# TYPE CODE HERE\n",
    "U, s, Vh = scipy.linalg.svd(np.dot(Y.T, X))\n",
    "W = np.dot(U, Vh)"
   ]
  },
  {
   "cell_type": "code",
   "execution_count": 10,
   "metadata": {
    "colab": {},
    "colab_type": "code",
    "id": "IXneXJw3nHvC"
   },
   "outputs": [
    {
     "name": "stdout",
     "output_type": "stream",
     "text": [
      "5 Nearest neighbors to word bananas in French ['bananes', 'banane', 'ananas', 'banana', 'haricots']\n",
      "5 Nearest neighbors to word university in French ['université', 'university', 'harvard', 'princeton', 'faculty']\n",
      "5 Nearest neighbors to word fire in French ['fire', 'feu', 'incendie', 'flammes', 'incendies']\n",
      "5 Nearest neighbors to word lumière in English ['lumière', 'luminous', 'wavelengths', 'illumination', 'brightness']\n",
      "5 Nearest neighbors to word hiver in English ['winter', 'summer', 'alpine', 'olympics', 'skiing']\n",
      "5 Nearest neighbors to word forêt in English ['forest', 'forests', 'wooded', 'forêt', 'heathland']\n"
     ]
    }
   ],
   "source": [
    "# 4 - After alignment with W, give examples of English nearest neighbors of some French words (and vice versa)\n",
    "#     You will be evaluated on that part and the code above\n",
    "\n",
    "# TYPE CODE HERE\n",
    "\n",
    "class Multilingual:\n",
    "    \n",
    "    def __init__(self, w2v_fr, w2v_en):\n",
    "        \n",
    "        \"\"\"\n",
    "        Description\n",
    "        -------------\n",
    "        Constructor of class Multilingual\n",
    "        \n",
    "        Attributes\n",
    "        -------------\n",
    "        w2v_fr       : Word2vec object, french words embeddings.\n",
    "        w2v_en       : Word2vec object, english words embeddings.\n",
    "        words_common : Set of strings, the common words between French and English.\n",
    "        X            : np.array of shape (len(words_common), 300), embeddings of French common words.\n",
    "        Y            : np.array of shape (len(words_common), 300), embeddings of English common words.\n",
    "        \n",
    "        Returns\n",
    "        -------------\n",
    "        \"\"\"\n",
    "        \n",
    "        self.w2v_fr = w2v_fr\n",
    "        self.w2v_en = w2v_en\n",
    "        \n",
    "        self.words_common = set(self.w2v_en.word2vec.keys()).intersection(set(self.w2v_fr.word2vec.keys()))\n",
    "        self.X = np.array([self.w2v_fr.word2vec[word] for word in self.words_common])\n",
    "        self.Y = np.array([self.w2v_en.word2vec[word] for word in self.words_common])\n",
    "        \n",
    "        U, _, Vh = scipy.linalg.svd(np.dot(self.Y.T, self.X))\n",
    "        W = np.dot(U, Vh)\n",
    "\n",
    "    def score(self, w1, w2, language):\n",
    "\n",
    "        \"\"\"\n",
    "        Description\n",
    "        -------------\n",
    "        Cosine similarity between the transformation of w1 (French --> English and vice-versa) and w2.\n",
    "\n",
    "        Parameters\n",
    "        -------------\n",
    "        w1        : String, word in language.\n",
    "        w2        : String, word in a different language than w1.\n",
    "        language  : String in {'fr', 'en'}, language of w1.\n",
    "\n",
    "        Returns\n",
    "        -------------\n",
    "        Float, the cosine similarity of the transformation of w1 and w2.\n",
    "        \"\"\"\n",
    "\n",
    "        if language == 'fr':\n",
    "            w1_vec, w2_vec = w2v_fr.word2vec[w1], w2v_en.word2vec[w2]\n",
    "            w1_vec = np.dot(W, w1_vec)\n",
    "            \n",
    "        else:\n",
    "            w1_vec, w2_vec = w2v_en.word2vec[w1], w2v_fr.word2vec[w2]\n",
    "            w1_vec = np.dot(W.T, w1_vec)\n",
    "\n",
    "        return np.dot(w1_vec, w2_vec)/(np.linalg.norm(w1_vec)*np.linalg.norm(w2_vec))\n",
    "\n",
    "    def nearest(self, w, language, K = 5):\n",
    "\n",
    "        \"\"\"\n",
    "        Description\n",
    "        -------------\n",
    "        Give K nearest to word w (in French) in English\n",
    "\n",
    "        Parameters\n",
    "        -------------\n",
    "        w         : String, word in French.\n",
    "        language  : String in {'fr', 'en'}, language of w.\n",
    "        K         : Int, number of neighbors we want (default = 5).\n",
    "\n",
    "        Returns\n",
    "        -------------\n",
    "        List of the K nearest neighbors to word w.\n",
    "        \"\"\"\n",
    "        \n",
    "        if language == 'fr':\n",
    "            scores = {v:self.score(w, v, 'fr') for v in w2v_en.word2vec.keys()}\n",
    "            scores = sorted(scores.items(), key=lambda kv: kv[1], reverse=True)\n",
    "            scores = scores[:K]\n",
    "            \n",
    "        else:\n",
    "            scores = {v:self.score(w, v, 'en') for v in w2v_fr.word2vec.keys()}\n",
    "            scores = sorted(scores.items(), key=lambda kv: kv[1], reverse=True)\n",
    "            scores = scores[:K]\n",
    "\n",
    "        return [d[0] for d in scores]\n",
    "    \n",
    "multi = Multilingual(w2v_fr, w2v_en)\n",
    "print('5 Nearest neighbors to word bananas in French', multi.nearest('banana', 'en', K=5))\n",
    "print('5 Nearest neighbors to word university in French', multi.nearest('university', 'en', K=5))\n",
    "print('5 Nearest neighbors to word fire in French', multi.nearest('fire', 'en', K=5))\n",
    "print('5 Nearest neighbors to word lumière in English', multi.nearest('lumière', 'fr', K=5))\n",
    "print('5 Nearest neighbors to word hiver in English', multi.nearest('hiver', 'fr', K=5))\n",
    "print('5 Nearest neighbors to word forêt in English', multi.nearest('forêt', 'fr', K=5))"
   ]
  },
  {
   "cell_type": "markdown",
   "metadata": {
    "colab_type": "text",
    "id": "DtWjghn1nHvG"
   },
   "source": [
    "If you want to dive deeper on this subject: https://github.com/facebookresearch/MUSE"
   ]
  },
  {
   "cell_type": "markdown",
   "metadata": {
    "colab_type": "text",
    "id": "M4tpG85KnHvH"
   },
   "source": [
    "# 3) Sentence classification with BoV and scikit-learn"
   ]
  },
  {
   "cell_type": "code",
   "execution_count": 11,
   "metadata": {
    "colab": {},
    "colab_type": "code",
    "id": "ylL1aEdRnHvJ"
   },
   "outputs": [],
   "source": [
    "# 1 - Load train/dev/test of Stanford Sentiment TreeBank (SST)\n",
    "#     (https://nlp.stanford.edu/~socherr/EMNLP2013_RNTN.pdf)\n",
    "\n",
    "# TYPE CODE HERE\n",
    "\n",
    "def load_train_dev(path):\n",
    "    \n",
    "    \"\"\"\n",
    "    Description\n",
    "    -------------\n",
    "    Load the train or dev data.\n",
    "    \n",
    "    Parameters\n",
    "    -------------\n",
    "    path : String, path to the train or dev data.\n",
    "    \n",
    "    Returns\n",
    "    -------------\n",
    "    X : List of strings containing the sentences.\n",
    "    Y : np.array of shape (number_sentences,) and dtype Int containing the labels\n",
    "    \"\"\"\n",
    "    \n",
    "    with open(path) as f:\n",
    "        sentences = f.readlines()\n",
    "    \n",
    "    X = []\n",
    "    Y = np.zeros(len(sentences))\n",
    "    for i in range(len(sentences)):\n",
    "        sent = sentences[i]\n",
    "        Y[i] = int(sent[0])\n",
    "        X.append(sent[2:])\n",
    "        \n",
    "    return X, Y\n",
    "\n",
    "def load_test(path):\n",
    "    \n",
    "    \"\"\"\n",
    "    Description\n",
    "    -------------\n",
    "    Load the training data.\n",
    "    \n",
    "    Parameters\n",
    "    -------------\n",
    "    path : String, path to the training data.\n",
    "    \n",
    "    Returns\n",
    "    -------------\n",
    "    X : List of strings containing the sentences.\n",
    "    Y : np.array of shape (number_sentences,) and dtype Int containing the labels\n",
    "    \"\"\"\n",
    "    \n",
    "    with open(path) as f:\n",
    "        sentences = f.readlines()\n",
    "    \n",
    "    X = []\n",
    "    for sent in sentences:\n",
    "        X.append(sent[2:])\n",
    "        \n",
    "    return X\n",
    "\n",
    "X, Y = load_train_dev(os.path.join(PATH_TO_DATA, 'SST/stsa.fine.train'))\n",
    "X_dev, Y_dev = load_train_dev(os.path.join(PATH_TO_DATA, 'SST/stsa.fine.dev'))\n",
    "X_test = load_test(os.path.join(PATH_TO_DATA, 'SST/stsa.fine.test.X'))"
   ]
  },
  {
   "cell_type": "code",
   "execution_count": 16,
   "metadata": {
    "colab": {},
    "colab_type": "code",
    "id": "5fNqrv_WnHvR"
   },
   "outputs": [],
   "source": [
    "# 2 - Encode sentences with the BoV model above\n",
    "\n",
    "# TYPE CODE HERE\n",
    "s2v = BoV(w2v)\n",
    "\n",
    "# Build idf scores for each word\n",
    "s2v.build_idf(X + X_dev + X_test)\n",
    "\n",
    "# Encoding without idf\n",
    "X_embedding = s2v.encode(X)\n",
    "X_embedding_dev = s2v.encode(X_dev)\n",
    "X_embedding_test = s2v.encode(X_test)\n",
    "\n",
    "# Encoding with idf\n",
    "X_embedding_idf = s2v.encode(X, True)\n",
    "X_embedding_dev_idf = s2v.encode(X_dev, True)\n",
    "X_embedding_test_idf = s2v.encode(X_test, True)"
   ]
  },
  {
   "cell_type": "code",
   "execution_count": 13,
   "metadata": {
    "colab": {},
    "colab_type": "code",
    "id": "MgHSZrEKnHvV"
   },
   "outputs": [
    {
     "data": {
      "image/png": "[encoded data removed]",
      "text/plain": [
       "<Figure size 432x288 with 1 Axes>"
      ]
     },
     "metadata": {
      "needs_background": "light"
     },
     "output_type": "display_data"
    },
    {
     "name": "stdout",
     "output_type": "stream",
     "text": [
      "Tuning C, we get for C = 0.167 , accuracy = 0.4205 \n"
     ]
    },
    {
     "data": {
      "image/png": "[encoded data removed]",
      "text/plain": [
       "<Figure size 432x288 with 1 Axes>"
      ]
     },
     "metadata": {
      "needs_background": "light"
     },
     "output_type": "display_data"
    },
    {
     "name": "stdout",
     "output_type": "stream",
     "text": [
      "Tuning C, we get for C = 0.034 , accuracy = 0.4278 \n"
     ]
    }
   ],
   "source": [
    "# 3 - Learn Logistic Regression on top of sentence embeddings using scikit-learn\n",
    "#     (consider tuning the L2 regularization on the dev set)\n",
    "\n",
    "# TYPE CODE HERE\n",
    "from sklearn.linear_model import LogisticRegression\n",
    "from sklearn.metrics import accuracy_score\n",
    "\n",
    "# By default (C=1) the logistic regression model does not generalize well to the\n",
    "# dev set, that's why we look for optimal C value in ranges that are inferior\n",
    "# to 1.\n",
    "\n",
    "\n",
    "def tune_and_evaluate(data_train, pred_train, data_dev, pred_dev, interval = [1e-3, 0.3], num_points = 10, title = ''):\n",
    "    \n",
    "    \"\"\"\n",
    "    Description\n",
    "    --------------\n",
    "    Tune a logistic regression model on our data in order to select the best model. (The tuning is simplistic, it is done\n",
    "    only on the regularization parameter C)\n",
    "    \n",
    "    Parameters\n",
    "    --------------\n",
    "    data_train : array-like, the training data.\n",
    "    pred_train : array-like, the modeled variable on the training data.\n",
    "    data_dev   : array-like, the dev data.\n",
    "    pred_dev   : array-like, the modeled variable on the dev data.\n",
    "    interval   : List of length 2, the range of tuning.\n",
    "    num_points : Int, number of C values in interval to test.\n",
    "    titles     : String, the plot title.\n",
    "    \n",
    "    Returns\n",
    "    --------------\n",
    "    The optimal C value.\n",
    "    \"\"\"\n",
    "    \n",
    "    C_values = np.linspace(interval[0], interval[1], num = num_points)\n",
    "    accuracy_train = []\n",
    "    accuracy_dev = []\n",
    "    for C in C_values:\n",
    "        clf = LogisticRegression(C=C, n_jobs = -1)\n",
    "        clf.fit(data_train, pred_train)\n",
    "        Y_dev_pred = clf.predict(data_dev)\n",
    "        Y_pred = clf.predict(data_train)\n",
    "        accuracy_dev.append(accuracy_score(pred_dev, Y_dev_pred))\n",
    "        accuracy_train.append(accuracy_score(pred_train, Y_pred))\n",
    "\n",
    "    plt.plot(C_values, accuracy_dev, label = 'accuracy_dev')\n",
    "    plt.plot(C_values, accuracy_train, label = 'accuracy_train')\n",
    "    plt.xlabel('C values')\n",
    "    plt.ylabel('accuracy scores')\n",
    "    plt.title(title)\n",
    "    plt.legend()\n",
    "    plt.show()\n",
    "\n",
    "    C_max_arg = np.argmax(accuracy_dev) # The value of C maximizing the accuracy score on the dev set.\n",
    "    C_opt = C_values[C_max_arg]\n",
    "\n",
    "    clf = LogisticRegression(C=C_opt)\n",
    "    clf.fit(data_train, Y)\n",
    "    Y_dev_pred = clf.predict(data_dev)\n",
    "    Y_pred = clf.predict(data_train)\n",
    "    print('Tuning C, we get for C = %.3f , accuracy = %.4f ' %(C_opt, accuracy_score(Y_dev, Y_dev_pred)))\n",
    "    return C_opt\n",
    "    \n",
    "C_without_idf = tune_and_evaluate(X_embedding, Y, X_embedding_dev, Y_dev, title = 'Tuning on data encoded without idf')\n",
    "C_with_idf = tune_and_evaluate(X_embedding_idf, Y, X_embedding_dev_idf, Y_dev, title = 'Tuning on data encoded with idf')"
   ]
  },
  {
   "cell_type": "code",
   "execution_count": 18,
   "metadata": {
    "colab": {},
    "colab_type": "code",
    "id": "rGpIdbsknHvZ"
   },
   "outputs": [],
   "source": [
    "# 4 - Produce 2210 predictions for the test set (in the same order). One line = one prediction (=0,1,2,3,4).\n",
    "#     Attach the output file \"logreg_bov_y_test_sst.txt\" to your deliverable.\n",
    "#     You will be evaluated on the results of the test set.\n",
    "\n",
    "# TYPE CODE HERE\n",
    "\n",
    "clf = LogisticRegression(C=C_without_idf) # We use the optimal C value of mean encoded data set since it yielded a similar behaviour between train and dev sets.\n",
    "clf.fit(X_embedding + X_embedding_dev, np.hstack((Y, Y_dev))) # Fit on both training and dev sets.\n",
    "Y_test_pred = clf.predict(X_embedding_test)\n",
    "\n",
    "file = open('logreg_bov_y_test_sst.txt', 'w')\n",
    "for y in (Y_test_pred.astype(int)).astype(str):\n",
    "    file.write(y + '\\n')\n",
    "file.close()"
   ]
  },
  {
   "cell_type": "code",
   "execution_count": 97,
   "metadata": {
    "colab": {},
    "colab_type": "code",
    "id": "qudRPMpGnHve"
   },
   "outputs": [],
   "source": [
    "# BONUS!\n",
    "# 5 - Try to improve performance with another classifier\n",
    "#     Attach the output file \"XXX_bov_y_test_sst.txt\" to your deliverable (where XXX = the name of the classifier)\n",
    "\n",
    "# TYPE CODE HERE"
   ]
  },
  {
   "cell_type": "markdown",
   "metadata": {
    "colab_type": "text",
    "id": "5tyf88HRnHvl"
   },
   "source": [
    "# 4) Sentence classification with LSTMs in Keras"
   ]
  },
  {
   "cell_type": "markdown",
   "metadata": {
    "colab_type": "text",
    "id": "LHAHA_q5nHvn"
   },
   "source": [
    "## 4.1 - Preprocessing"
   ]
  },
  {
   "cell_type": "code",
   "execution_count": 14,
   "metadata": {
    "colab": {},
    "colab_type": "code",
    "id": "DWpp9Q9PnHvs",
    "outputId": "56ba5484-62f5-4031-b49f-fcd3a053fce3"
   },
   "outputs": [
    {
     "name": "stderr",
     "output_type": "stream",
     "text": [
      "Using TensorFlow backend.\n"
     ]
    }
   ],
   "source": [
    "import keras"
   ]
  },
  {
   "cell_type": "code",
   "execution_count": 17,
   "metadata": {
    "colab": {},
    "colab_type": "code",
    "id": "jvOzJejinHvw"
   },
   "outputs": [
    {
     "name": "stdout",
     "output_type": "stream",
     "text": [
      "Total number of words in the whole dataset : 19944\n"
     ]
    }
   ],
   "source": [
    "# 1 - Load train/dev/test sets of SST\n",
    "PATH_TO_DATA = \"data/\"\n",
    "\n",
    "# TYPE CODE HERE\n",
    "\n",
    "X, Y = load_train_dev(os.path.join(PATH_TO_DATA, 'SST/stsa.fine.train'))\n",
    "X_dev, Y_dev = load_train_dev(os.path.join(PATH_TO_DATA, 'SST/stsa.fine.dev'))\n",
    "X_test = load_test(os.path.join(PATH_TO_DATA, 'SST/stsa.fine.test.X'))\n",
    "\n",
    "print('Total number of words in the whole dataset : %d' %len(s2v.idf.keys())) # Use the previously built idf on the whole dataset."
   ]
  },
  {
   "cell_type": "code",
   "execution_count": 18,
   "metadata": {
    "colab": {},
    "colab_type": "code",
    "id": "fbgHwwNlnHv0"
   },
   "outputs": [],
   "source": [
    "# 2 - Transform text to integers using keras.preprocessing.text.one_hot function\n",
    "#     https://keras.io/preprocessing/text/\n",
    "\n",
    "# TYPE CODE HERE\n",
    "from keras.preprocessing import text\n",
    "\n",
    "X_integers = [text.one_hot(sent, n = 19944) for sent in X]\n",
    "X_dev_integers = [text.one_hot(sent, n = 19944) for sent in X_dev]\n",
    "X_test_integers = [text.one_hot(sent, n = 19944) for sent in X_test]"
   ]
  },
  {
   "cell_type": "markdown",
   "metadata": {
    "colab_type": "text",
    "id": "c9MgdVudnHv3"
   },
   "source": [
    "**Padding input data**\n",
    "\n",
    "Models in Keras (and elsewhere) take batches of sentences of the same length as input. It is because Deep Learning framework have been designed to handle well Tensors, which are particularly suited for fast computation on the GPU.\n",
    "\n",
    "Since sentences have different sizes, we \"pad\" them. That is, we add dummy \"padding\" tokens so that they all have the same length.\n",
    "\n",
    "The input to a Keras model thus has this size : (batchsize, maxseqlen) where maxseqlen is the maximum length of a sentence in the batch."
   ]
  },
  {
   "cell_type": "code",
   "execution_count": 19,
   "metadata": {
    "colab": {},
    "colab_type": "code",
    "id": "OKsQUuwonHv4"
   },
   "outputs": [],
   "source": [
    "# 3 - Pad your sequences using keras.preprocessing.sequence.pad_sequences\n",
    "#     https://keras.io/preprocessing/sequence/\n",
    "\n",
    "# TYPE CODE HERE\n",
    "from keras.preprocessing import sequence\n",
    "X_all_padded = sequence.pad_sequences(X_integers + X_dev_integers + X_test_integers)\n",
    "X_padded, X_dev_padded, X_test_padded = X_all_padded[:len(X_integers)], X_all_padded[len(X_integers):len(X_integers) + len(X_dev_integers)], X_all_padded[len(X_integers) + len(X_dev_integers):len(X_integers) + len(X_dev_integers) + len(X_test_integers)]\n"
   ]
  },
  {
   "cell_type": "markdown",
   "metadata": {
    "colab_type": "text",
    "id": "9k-yfpZQnHv7"
   },
   "source": [
    "## 4.2 - Design and train your model"
   ]
  },
  {
   "cell_type": "code",
   "execution_count": 20,
   "metadata": {
    "colab": {},
    "colab_type": "code",
    "id": "e6xn4HqLnHwB"
   },
   "outputs": [
    {
     "name": "stdout",
     "output_type": "stream",
     "text": [
      "WARNING:tensorflow:From /home/chaoukiayman2/anaconda3/envs/tensorflow/lib/python3.6/site-packages/tensorflow/python/framework/op_def_library.py:263: colocate_with (from tensorflow.python.framework.ops) is deprecated and will be removed in a future version.\n",
      "Instructions for updating:\n",
      "Colocations handled automatically by placer.\n",
      "WARNING:tensorflow:From /home/chaoukiayman2/anaconda3/envs/tensorflow/lib/python3.6/site-packages/keras/backend/tensorflow_backend.py:3445: calling dropout (from tensorflow.python.ops.nn_ops) with keep_prob is deprecated and will be removed in a future version.\n",
      "Instructions for updating:\n",
      "Please use `rate` instead of `keep_prob`. Rate should be set to `rate = 1 - keep_prob`.\n"
     ]
    }
   ],
   "source": [
    "# 4 - Design your encoder + classifier using keras.layers\n",
    "#     In Keras, Torch and other deep learning framework, we create a \"container\" which is the Sequential() module.\n",
    "#     Then we add components to this contained : the lookuptable, the LSTM, the classifier etc.\n",
    "#     All of these components are contained in the Sequential() and are trained together.\n",
    "\n",
    "\n",
    "# ADAPT CODE BELOW\n",
    "\n",
    "from keras.models import Sequential\n",
    "from keras.layers import Embedding, LSTM, Dense, Activation, SpatialDropout1D, Dropout\n",
    "\n",
    "embed_dim  = 300  # word embedding dimension\n",
    "nhid       = 64  # number of hidden units in the LSTM\n",
    "vocab_size = 19944  # size of the vocabulary\n",
    "n_classes  = 5\n",
    "\n",
    "model = Sequential()\n",
    "model.add(Embedding(vocab_size, embed_dim))\n",
    "model.add(SpatialDropout1D(0.7))\n",
    "model.add(LSTM(nhid, dropout=0.7, recurrent_dropout=0.7))\n",
    "model.add(Dense(n_classes, activation='softmax'))"
   ]
  },
  {
   "cell_type": "code",
   "execution_count": 21,
   "metadata": {
    "colab": {},
    "colab_type": "code",
    "id": "u9Za7Nv5nHwF"
   },
   "outputs": [
    {
     "name": "stdout",
     "output_type": "stream",
     "text": [
      "_________________________________________________________________\n",
      "Layer (type)                 Output Shape              Param #   \n",
      "=================================================================\n",
      "embedding_1 (Embedding)      (None, None, 300)         5983200   \n",
      "_________________________________________________________________\n",
      "spatial_dropout1d_1 (Spatial (None, None, 300)         0         \n",
      "_________________________________________________________________\n",
      "lstm_1 (LSTM)                (None, 64)                93440     \n",
      "_________________________________________________________________\n",
      "dense_1 (Dense)              (None, 5)                 325       \n",
      "=================================================================\n",
      "Total params: 6,076,965\n",
      "Trainable params: 6,076,965\n",
      "Non-trainable params: 0\n",
      "_________________________________________________________________\n",
      "None\n"
     ]
    }
   ],
   "source": [
    "# 5 - Define your loss/optimizer/metrics\n",
    "\n",
    "# MODIFY CODE BELOW\n",
    "\n",
    "loss_classif     =  'categorical_crossentropy' # find the right loss for multi-class classification\n",
    "optimizer        =  'adam' # find the right optimizer\n",
    "metrics_classif  =  ['accuracy']\n",
    "\n",
    "# Observe how easy (but blackboxed) this is in Keras\n",
    "model.compile(loss=loss_classif,\n",
    "              optimizer=optimizer,\n",
    "              metrics=metrics_classif)\n",
    "print(model.summary())"
   ]
  },
  {
   "cell_type": "code",
   "execution_count": 22,
   "metadata": {
    "colab": {},
    "colab_type": "code",
    "id": "ZL1hrD6vnHwH"
   },
   "outputs": [
    {
     "name": "stdout",
     "output_type": "stream",
     "text": [
      "WARNING:tensorflow:From /home/chaoukiayman2/anaconda3/envs/tensorflow/lib/python3.6/site-packages/tensorflow/python/ops/math_ops.py:3067: to_int32 (from tensorflow.python.ops.math_ops) is deprecated and will be removed in a future version.\n",
      "Instructions for updating:\n",
      "Use tf.cast instead.\n",
      "Train on 8544 samples, validate on 1101 samples\n",
      "Epoch 1/10\n",
      "8544/8544 [==============================] - 9s 1ms/step - loss: 1.5906 - acc: 0.2611 - val_loss: 1.5714 - val_acc: 0.2589\n",
      "Epoch 2/10\n",
      "8544/8544 [==============================] - 7s 820us/step - loss: 1.5672 - acc: 0.2817 - val_loss: 1.5665 - val_acc: 0.2816\n",
      "Epoch 3/10\n",
      "8544/8544 [==============================] - 7s 793us/step - loss: 1.5543 - acc: 0.2933 - val_loss: 1.5606 - val_acc: 0.2725\n",
      "Epoch 4/10\n",
      "8544/8544 [==============================] - 7s 807us/step - loss: 1.5378 - acc: 0.3302 - val_loss: 1.5474 - val_acc: 0.3270\n",
      "Epoch 5/10\n",
      "8544/8544 [==============================] - 7s 797us/step - loss: 1.5038 - acc: 0.3454 - val_loss: 1.5164 - val_acc: 0.3279\n",
      "Epoch 6/10\n",
      "8544/8544 [==============================] - 7s 811us/step - loss: 1.4478 - acc: 0.3770 - val_loss: 1.4749 - val_acc: 0.3524\n",
      "Epoch 7/10\n",
      "8544/8544 [==============================] - 7s 789us/step - loss: 1.3653 - acc: 0.4235 - val_loss: 1.4388 - val_acc: 0.3715\n",
      "Epoch 8/10\n",
      "8544/8544 [==============================] - 7s 782us/step - loss: 1.2876 - acc: 0.4641 - val_loss: 1.4340 - val_acc: 0.3769\n",
      "Epoch 9/10\n",
      "8544/8544 [==============================] - 7s 784us/step - loss: 1.2204 - acc: 0.5095 - val_loss: 1.4312 - val_acc: 0.3896\n",
      "Epoch 10/10\n",
      "8544/8544 [==============================] - 7s 789us/step - loss: 1.1435 - acc: 0.5463 - val_loss: 1.4418 - val_acc: 0.3996\n"
     ]
    }
   ],
   "source": [
    "# 6 - Train your model and find the best hyperparameters for your dev set\n",
    "#     you will be evaluated on the quality of your predictions on the test set\n",
    "\n",
    "# ADAPT CODE BELOW\n",
    "from keras.utils import to_categorical\n",
    "bs = 256\n",
    "n_epochs = 10\n",
    "Y_categorical = to_categorical(Y, 5)\n",
    "Y_dev_categorical = to_categorical(Y_dev, 5)\n",
    "\n",
    "history = model.fit(X_padded, Y_categorical, batch_size=bs, nb_epoch=n_epochs, validation_data=(X_dev_padded, Y_dev_categorical))"
   ]
  },
  {
   "cell_type": "code",
   "execution_count": 23,
   "metadata": {},
   "outputs": [
    {
     "data": {
      "image/png": "[encoded data removed]",
      "text/plain": [
       "<Figure size 720x360 with 2 Axes>"
      ]
     },
     "metadata": {
      "needs_background": "light"
     },
     "output_type": "display_data"
    }
   ],
   "source": [
    "plt.figure(figsize = (10, 5))\n",
    "plt.subplot(121)\n",
    "\n",
    "plt.plot(range(1, n_epochs + 1), history.history['loss'], label = 'train_loss')\n",
    "plt.plot(range(1, n_epochs + 1), history.history['val_loss'], label = 'val_loss')\n",
    "plt.legend()\n",
    "plt.title('Evolution of training and validation loss')\n",
    "# plt.show()\n",
    "\n",
    "plt.subplot(122)\n",
    "\n",
    "plt.plot(range(1, n_epochs + 1), history.history['acc'], label = 'train_acc')\n",
    "plt.plot(range(1, n_epochs + 1), history.history['val_acc'], label = 'val_acc')\n",
    "plt.legend()\n",
    "plt.title('Evolution of training and validation accuracy')\n",
    "\n",
    "plt.tight_layout()\n",
    "plt.savefig('train_dev_results.png')\n",
    "plt.show()"
   ]
  },
  {
   "cell_type": "code",
   "execution_count": 53,
   "metadata": {
    "colab": {},
    "colab_type": "code",
    "id": "6YyqzSCjnHwM"
   },
   "outputs": [],
   "source": [
    "# 7 - Generate your predictions on the test set using model.predict(x_test)\n",
    "#     https://keras.io/models/model/\n",
    "#     Log your predictions in a file (one line = one integer: 0,1,2,3,4)\n",
    "#     Attach the output file \"logreg_lstm_y_test_sst.txt\" to your deliverable.\n",
    "\n",
    "# TYPE CODE HERE\n",
    "Y_test_pred = np.argmax(model.predict(X_test_padded), axis=1) + 1\n",
    "\n",
    "file = open('logreg_lstm_y_test_sst.txt', 'w')\n",
    "for y in (Y_test_pred.astype(int)).astype(str):\n",
    "    file.write(y + '\\n')\n",
    "file.close()\n"
   ]
  },
  {
   "cell_type": "markdown",
   "metadata": {
    "colab_type": "text",
    "id": "-nYqlvclnHwR"
   },
   "source": [
    "## 4.3 -- innovate !"
   ]
  },
  {
   "cell_type": "code",
   "execution_count": 24,
   "metadata": {},
   "outputs": [
    {
     "name": "stdout",
     "output_type": "stream",
     "text": [
      "Loaded 200000 pretrained word vectors\n",
      "There are still 2530 unencoded words\n",
      "Examples of unencoded word :  irly\n"
     ]
    }
   ],
   "source": [
    "# We use the keras preprocessing function text_to_word_sequence to filter the unnecessary words '!\"#$%&()*+,-./:;<=>?@[\\]^_`{|}~'\n",
    "X_sequences = [text.text_to_word_sequence(sent) for sent in X]\n",
    "X_dev_sequences = [text.text_to_word_sequence(sent) for sent in X_dev]\n",
    "X_test_sequences = [text.text_to_word_sequence(sent) for sent in X_test]\n",
    "\n",
    "dict_indices = {} # This dictionnary will map our relevant words to unique integers.\n",
    "                  # We prefer this mapping to that of a hashing function to avoid any non unique potential mappings,\n",
    "                  # plus we only need to index our words to build an embedding matrix that uses word2vec.\n",
    "\n",
    "count = 0\n",
    "for seq in (X_sequences + X_dev_sequences + X_test_sequences):\n",
    "    for word in seq:\n",
    "        if word not in dict_indices.keys():\n",
    "            dict_indices[word] = count\n",
    "            count += 1\n",
    "            \n",
    "def encode(sentence):\n",
    "    \"\"\"\n",
    "    Encode sentence by replacing its words by their corresponding indexes in dict_indices dictionnary.\n",
    "    \"\"\"\n",
    "    l = []\n",
    "    for word in sentence:\n",
    "        l.append(dict_indices[word])\n",
    "        \n",
    "    return l\n",
    "\n",
    "X_encoded = [encode(sentence) for sentence in X_sequences]\n",
    "X_dev_encoded = [encode(sentence) for sentence in X_dev_sequences]\n",
    "X_test_encoded = [encode(sentence) for sentence in X_test_sequences]\n",
    "\n",
    "X_all_padded = sequence.pad_sequences(X_encoded + X_dev_encoded + X_test_encoded)\n",
    "X_padded, X_dev_padded, X_test_padded = X_all_padded[:len(X_encoded)], X_all_padded[len(X_encoded):len(X_encoded) + len(X_dev_encoded)], X_all_padded[len(X_encoded) + len(X_dev_encoded):len(X_encoded) + len(X_dev_encoded) + len(X_test_encoded)]\n",
    "            \n",
    "w2v = Word2vec(os.path.join(PATH_TO_DATA, 'crawl-300d-200k.vec'), nmax=200000) # We take the maximum possible value of nmax to encode the maximum number of words possible in our dataset\n",
    "print('There are still %d unencoded words' %len(set(dict_indices.keys()) - set(w2v.word2vec.keys())))\n",
    "print('Examples of unencoded word : ', next(iter(set(dict_indices.keys()) - set(w2v.word2vec.keys()))))\n",
    "\n",
    "dict_id2words = {v: k for k, v in dict_indices.items()}\n",
    "embedding_matrix = np.empty((len(dict_indices.keys()), 300))\n",
    "for i in range(len(dict_indices.keys())):\n",
    "    embedding_matrix[i, :] = w2v.word2vec.get(dict_id2words[i], np.zeros(300))\n",
    "    \n",
    "    "
   ]
  },
  {
   "cell_type": "code",
   "execution_count": 32,
   "metadata": {
    "colab": {},
    "colab_type": "code",
    "id": "0-1eekYCnHwT"
   },
   "outputs": [
    {
     "name": "stdout",
     "output_type": "stream",
     "text": [
      "Train on 8544 samples, validate on 1101 samples\n",
      "Epoch 1/35\n",
      "8544/8544 [==============================] - 8s 978us/step - loss: 1.5775 - acc: 0.2657 - val_loss: 1.5459 - val_acc: 0.3306\n",
      "Epoch 2/35\n",
      "8544/8544 [==============================] - 6s 692us/step - loss: 1.5309 - acc: 0.3179 - val_loss: 1.4520 - val_acc: 0.3551\n",
      "Epoch 3/35\n",
      "8544/8544 [==============================] - 6s 688us/step - loss: 1.4846 - acc: 0.3343 - val_loss: 1.4042 - val_acc: 0.3697\n",
      "Epoch 4/35\n",
      "8544/8544 [==============================] - 6s 688us/step - loss: 1.4564 - acc: 0.3543 - val_loss: 1.3667 - val_acc: 0.3960\n",
      "Epoch 5/35\n",
      "8544/8544 [==============================] - 6s 694us/step - loss: 1.4362 - acc: 0.3651 - val_loss: 1.3583 - val_acc: 0.3942\n",
      "Epoch 6/35\n",
      "8544/8544 [==============================] - 6s 685us/step - loss: 1.4280 - acc: 0.3732 - val_loss: 1.3423 - val_acc: 0.4033\n",
      "Epoch 7/35\n",
      "8544/8544 [==============================] - 6s 684us/step - loss: 1.4018 - acc: 0.3866 - val_loss: 1.3123 - val_acc: 0.4242\n",
      "Epoch 8/35\n",
      "8544/8544 [==============================] - 6s 693us/step - loss: 1.3889 - acc: 0.3883 - val_loss: 1.3041 - val_acc: 0.4178\n",
      "Epoch 9/35\n",
      "8544/8544 [==============================] - 6s 691us/step - loss: 1.3767 - acc: 0.3971 - val_loss: 1.2945 - val_acc: 0.4323\n",
      "Epoch 10/35\n",
      "8544/8544 [==============================] - 6s 688us/step - loss: 1.3643 - acc: 0.4048 - val_loss: 1.2801 - val_acc: 0.4332\n",
      "Epoch 11/35\n",
      "8544/8544 [==============================] - 6s 690us/step - loss: 1.3526 - acc: 0.4098 - val_loss: 1.2753 - val_acc: 0.4487\n",
      "Epoch 12/35\n",
      "8544/8544 [==============================] - 6s 688us/step - loss: 1.3390 - acc: 0.4154 - val_loss: 1.3051 - val_acc: 0.4033\n",
      "Epoch 13/35\n",
      "8544/8544 [==============================] - 6s 701us/step - loss: 1.3373 - acc: 0.4121 - val_loss: 1.2756 - val_acc: 0.4423\n",
      "Epoch 14/35\n",
      "8544/8544 [==============================] - 6s 697us/step - loss: 1.3296 - acc: 0.4191 - val_loss: 1.2641 - val_acc: 0.4351\n",
      "Epoch 15/35\n",
      "8544/8544 [==============================] - 6s 700us/step - loss: 1.3180 - acc: 0.4201 - val_loss: 1.2554 - val_acc: 0.4396\n",
      "Epoch 16/35\n",
      "8544/8544 [==============================] - 6s 693us/step - loss: 1.3072 - acc: 0.4223 - val_loss: 1.2556 - val_acc: 0.4550\n",
      "Epoch 17/35\n",
      "8544/8544 [==============================] - 6s 694us/step - loss: 1.3019 - acc: 0.4331 - val_loss: 1.2480 - val_acc: 0.4387\n",
      "Epoch 18/35\n",
      "8544/8544 [==============================] - 6s 695us/step - loss: 1.2874 - acc: 0.4304 - val_loss: 1.2557 - val_acc: 0.4532\n",
      "Epoch 19/35\n",
      "8544/8544 [==============================] - 6s 687us/step - loss: 1.2889 - acc: 0.4371 - val_loss: 1.2505 - val_acc: 0.4469\n",
      "Epoch 20/35\n",
      "8544/8544 [==============================] - 6s 691us/step - loss: 1.2824 - acc: 0.4341 - val_loss: 1.2528 - val_acc: 0.4496\n",
      "Epoch 21/35\n",
      "8544/8544 [==============================] - 6s 685us/step - loss: 1.2772 - acc: 0.4401 - val_loss: 1.2650 - val_acc: 0.4387\n",
      "Epoch 22/35\n",
      "8544/8544 [==============================] - 6s 682us/step - loss: 1.2736 - acc: 0.4412 - val_loss: 1.2447 - val_acc: 0.4678\n",
      "Epoch 23/35\n",
      "8544/8544 [==============================] - 6s 694us/step - loss: 1.2661 - acc: 0.4510 - val_loss: 1.2489 - val_acc: 0.4650\n",
      "Epoch 24/35\n",
      "8544/8544 [==============================] - 6s 695us/step - loss: 1.2689 - acc: 0.4438 - val_loss: 1.2410 - val_acc: 0.4496\n",
      "Epoch 25/35\n",
      "8544/8544 [==============================] - 6s 688us/step - loss: 1.2610 - acc: 0.4487 - val_loss: 1.2442 - val_acc: 0.4587\n",
      "Epoch 26/35\n",
      "8544/8544 [==============================] - 6s 689us/step - loss: 1.2604 - acc: 0.4469 - val_loss: 1.2397 - val_acc: 0.4578\n",
      "Epoch 27/35\n",
      "8544/8544 [==============================] - 6s 690us/step - loss: 1.2487 - acc: 0.4542 - val_loss: 1.2359 - val_acc: 0.4559\n",
      "Epoch 28/35\n",
      "8544/8544 [==============================] - 6s 683us/step - loss: 1.2455 - acc: 0.4625 - val_loss: 1.2406 - val_acc: 0.4632\n",
      "Epoch 29/35\n",
      "8544/8544 [==============================] - 6s 683us/step - loss: 1.2465 - acc: 0.4602 - val_loss: 1.2342 - val_acc: 0.4550\n",
      "Epoch 30/35\n",
      "8544/8544 [==============================] - 6s 687us/step - loss: 1.2406 - acc: 0.4658 - val_loss: 1.2306 - val_acc: 0.4659\n",
      "Epoch 31/35\n",
      "8544/8544 [==============================] - 6s 686us/step - loss: 1.2369 - acc: 0.4586 - val_loss: 1.2267 - val_acc: 0.4587\n",
      "Epoch 32/35\n",
      "8544/8544 [==============================] - 6s 690us/step - loss: 1.2364 - acc: 0.4616 - val_loss: 1.2329 - val_acc: 0.4605\n",
      "Epoch 33/35\n",
      "8544/8544 [==============================] - 6s 685us/step - loss: 1.2255 - acc: 0.4690 - val_loss: 1.2295 - val_acc: 0.4596\n",
      "Epoch 34/35\n",
      "8544/8544 [==============================] - 6s 688us/step - loss: 1.2284 - acc: 0.4709 - val_loss: 1.2290 - val_acc: 0.4641\n",
      "Epoch 35/35\n",
      "8544/8544 [==============================] - 6s 689us/step - loss: 1.2234 - acc: 0.4693 - val_loss: 1.2248 - val_acc: 0.4650\n"
     ]
    },
    {
     "data": {
      "image/png": "[encoded data removed]",
      "text/plain": [
       "<Figure size 720x360 with 2 Axes>"
      ]
     },
     "metadata": {
      "needs_background": "light"
     },
     "output_type": "display_data"
    }
   ],
   "source": [
    "# 8 - Open question: find a model that is better on your dev set\n",
    "#     (e.g: use a 1D ConvNet, use a better classifier, pretrain your lookup tables ..)\n",
    "#     you will get point if the results on the test set are better: be careful of not overfitting your dev set too much..\n",
    "#     Attach the output file \"XXX_XXX_y_test_sst.txt\" to your deliverable.\n",
    "\n",
    "# TYPE CODE HERE\n",
    "\n",
    "from keras import regularizers\n",
    "\n",
    "embed_dim  = 300  # word embedding dimension\n",
    "nhid       = 52  # number of hidden units in the LSTM\n",
    "vocab_size = embedding_matrix.shape[0]  # size of the vocabulary\n",
    "n_classes  = 5\n",
    "\n",
    "model = Sequential()\n",
    "model.add(Embedding(vocab_size, embed_dim, trainable = False, weights = [embedding_matrix]))\n",
    "# model.add(SpatialDropout1D(0.7))\n",
    "model.add(LSTM(nhid, dropout=0.7, recurrent_dropout=0.7, recurrent_initializer = keras.initializers.Zeros()))\n",
    "model.add(Dense(128, activation = 'relu'))\n",
    "model.add(Dropout(0.5))\n",
    "model.add(Dense(n_classes, activation='softmax'))\n",
    "\n",
    "loss_classif     =  'categorical_crossentropy' # find the right loss for multi-class classification\n",
    "optimizer        =  'adam' # find the right optimizer\n",
    "metrics_classif  =  ['accuracy']\n",
    "\n",
    "# Observe how easy (but blackboxed) this is in Keras\n",
    "model.compile(loss=loss_classif,\n",
    "              optimizer=optimizer,\n",
    "              metrics=metrics_classif)\n",
    "\n",
    "bs = 128\n",
    "n_epochs = 35\n",
    "Y_categorical = to_categorical(Y, 5)\n",
    "Y_dev_categorical = to_categorical(Y_dev, 5)\n",
    "\n",
    "history = model.fit(X_padded, Y_categorical, batch_size=bs, nb_epoch=n_epochs, validation_data=(X_dev_padded, Y_dev_categorical))\n",
    "\n",
    "plt.figure(figsize = (10, 5))\n",
    "plt.subplot(121)\n",
    "\n",
    "plt.plot(range(1, n_epochs + 1), history.history['loss'], label = 'train_loss')\n",
    "plt.plot(range(1, n_epochs + 1), history.history['val_loss'], label = 'val_loss')\n",
    "plt.legend()\n",
    "plt.title('Evolution of training and validation loss')\n",
    "# plt.show()\n",
    "\n",
    "plt.subplot(122)\n",
    "\n",
    "plt.plot(range(1, n_epochs + 1), history.history['acc'], label = 'train_acc')\n",
    "plt.plot(range(1, n_epochs + 1), history.history['val_acc'], label = 'val_acc')\n",
    "plt.legend()\n",
    "plt.title('Evolution of training and validation accuracy')\n",
    "\n",
    "plt.tight_layout()\n",
    "plt.savefig('train_dev_results_lstm.png')\n",
    "plt.show()\n",
    "\n",
    "Y_test_pred = np.argmax(model.predict(X_test_padded), axis=1) + 1\n",
    "file = open('fixembed_lstm_y_test_sst.txt', 'w')\n",
    "for y in (Y_test_pred.astype(int)).astype(str):\n",
    "    file.write(y + '\\n')\n",
    "file.close()\n",
    "\n",
    "\n",
    "\n",
    "\n"
   ]
  },
  {
   "cell_type": "code",
   "execution_count": null,
   "metadata": {},
   "outputs": [],
   "source": []
  }
 ],
 "metadata": {
  "accelerator": "GPU",
  "colab": {
   "collapsed_sections": [],
   "name": "nlp_project.ipynb",
   "provenance": [],
   "toc_visible": true,
   "version": "0.3.2"
  },
  "kernelspec": {
   "display_name": "Python (tensorflow)",
   "language": "python",
   "name": "tensorflow"
  },
  "language_info": {
   "codemirror_mode": {
    "name": "ipython",
    "version": 3
   },
   "file_extension": ".py",
   "mimetype": "text/x-python",
   "name": "python",
   "nbconvert_exporter": "python",
   "pygments_lexer": "ipython3",
   "version": "3.6.7"
  }
 },
 "nbformat": 4,
 "nbformat_minor": 2
}
