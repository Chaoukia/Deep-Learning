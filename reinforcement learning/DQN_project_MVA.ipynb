{
  "nbformat": 4,
  "nbformat_minor": 0,
  "metadata": {
    "colab": {
      "name": "DQN_project_MVA.ipynb",
      "version": "0.3.2",
      "provenance": [],
      "collapsed_sections": []
    },
    "kernelspec": {
      "name": "python3",
      "display_name": "Python 3"
    },
    "accelerator": "GPU"
  },
  "cells": [
    {
      "metadata": {
        "id": "5gB4XlNAchZ8",
        "colab_type": "text"
      },
      "cell_type": "markdown",
      "source": [
        "**You may need to install [OpenCV](https://pypi.python.org/pypi/opencv-python) and [scikit-video](http://www.scikit-video.org/stable/).**"
      ]
    },
    {
      "metadata": {
        "id": "5cvftDQSchZ-",
        "colab_type": "code",
        "outputId": "d987bd3a-815f-4e2e-814c-38fc11b88be2",
        "colab": {
          "base_uri": "https://localhost:8080/",
          "height": 102
        }
      },
      "cell_type": "code",
      "source": [
        "!pip install scikit-video\n",
        "import keras\n",
        "import numpy as np\n",
        "import io\n",
        "import base64\n",
        "from IPython.display import HTML\n",
        "import skvideo.io\n",
        "import cv2\n",
        "import json\n",
        "import random\n",
        "\n",
        "from keras.models import Sequential, model_from_json\n",
        "from keras.layers.core import Dense, Flatten\n",
        "from keras.optimizers import sgd, adam\n",
        "from keras.layers import Conv2D, MaxPooling2D, Activation, AveragePooling2D,Reshape,BatchNormalization"
      ],
      "execution_count": 0,
      "outputs": [
        {
          "output_type": "stream",
          "text": [
            "Requirement already satisfied: scikit-video in /usr/local/lib/python3.6/dist-packages (1.1.11)\n",
            "Requirement already satisfied: scipy in /usr/local/lib/python3.6/dist-packages (from scikit-video) (1.1.0)\n",
            "Requirement already satisfied: pillow in /usr/local/lib/python3.6/dist-packages (from scikit-video) (4.0.0)\n",
            "Requirement already satisfied: numpy in /usr/local/lib/python3.6/dist-packages (from scikit-video) (1.14.6)\n",
            "Requirement already satisfied: olefile in /usr/local/lib/python3.6/dist-packages (from pillow->scikit-video) (0.46)\n"
          ],
          "name": "stdout"
        }
      ]
    },
    {
      "metadata": {
        "id": "1kj-trU5chaD",
        "colab_type": "text"
      },
      "cell_type": "markdown",
      "source": [
        "# MiniProject #3: Deep Reinforcement Learning"
      ]
    },
    {
      "metadata": {
        "id": "-fhMlZmkchaE",
        "colab_type": "text"
      },
      "cell_type": "markdown",
      "source": [
        "__Notations__: $E_p$ is the expectation under probability $p$. Please justify each of your answer and widely comment your code."
      ]
    },
    {
      "metadata": {
        "id": "YTX16sHvchaF",
        "colab_type": "text"
      },
      "cell_type": "markdown",
      "source": [
        "# Context"
      ]
    },
    {
      "metadata": {
        "id": "storPfpuchaH",
        "colab_type": "text"
      },
      "cell_type": "markdown",
      "source": [
        "In a reinforcement learning algorithm, we modelize each step $t$ as an action $a_t$ obtained from a state $s_t$, i.e. $\\{(a_{t},s_{t})_{t\\leq T}\\}$ having the Markov property. We consider a discount factor $\\gamma \\in [0,1]$ that ensures convergence. The goal is to find among all the policies $\\pi$, one that maximizes the expected reward:\n",
        "\n",
        "\\begin{equation*}\n",
        "R(\\pi)=\\sum_{t\\leq T}E_{p^{\\pi}}[\\gamma^t r(s_{t},a_{t})] \\> ,\n",
        "\\end{equation*}\n",
        "\n",
        "where: \n",
        "\\begin{equation*}p^{\\pi}(s_0,a_{0},s_{1},a_{1},,...,s_{T-1},a_{T-1},s_{T})=p(s_{0})\\prod_{t=1}^{T-1}\\pi(a_{t}|s_{t})p(s_{t+1}|s_{t},a_{t}) \\> .\n",
        "\\end{equation*}\n",
        "\n",
        "We note the $Q$-function:\n",
        "\n",
        "\\begin{equation*}Q^\\pi(s,a)=E_{p^{\\pi}}[\\sum_{t\\leq T}\\gamma^{t}r(s_{t},a_{t})|s_{0}=s,a_{0}=a] \\> .\n",
        "\\end{equation*}\n",
        "\n",
        "Thus, the optimal Q function is:\n",
        "\\begin{equation*}\n",
        "Q^*(s,a)=\\max_{\\pi}Q^\\pi(s,a) \\> .\n",
        "\\end{equation*}\n",
        "\n",
        "In this project, we will apply the deep reinforcement learning techniques to a simple game: an agent will have to learn from scratch a policy that will permit it maximizing a reward."
      ]
    },
    {
      "metadata": {
        "id": "nRCKfdW4chaI",
        "colab_type": "text"
      },
      "cell_type": "markdown",
      "source": [
        "## The environment, the agent and the game"
      ]
    },
    {
      "metadata": {
        "id": "e4qmR60vchaJ",
        "colab_type": "text"
      },
      "cell_type": "markdown",
      "source": [
        "### The environment"
      ]
    },
    {
      "metadata": {
        "id": "mi6PMqIachaK",
        "colab_type": "text"
      },
      "cell_type": "markdown",
      "source": [
        "```Environment``` is an abstract class that represents the states, rewards, and actions to obtain the new state."
      ]
    },
    {
      "metadata": {
        "id": "Q0lurlW2chaM",
        "colab_type": "code",
        "colab": {}
      },
      "cell_type": "code",
      "source": [
        "class Environment(object):\n",
        "    def __init__(self):\n",
        "        pass\n",
        "\n",
        "    def act(self, act):\n",
        "        \"\"\"\n",
        "        One can act on the environment and obtain its reaction:\n",
        "        - the new state\n",
        "        - the reward of the new state\n",
        "        - should we continue the game?\n",
        "\n",
        "        :return: state, reward, game_over\n",
        "        \"\"\"\n",
        "        pass\n",
        "\n",
        "\n",
        "    def reset(self):\n",
        "        \"\"\"\n",
        "        Reinitialize the environment to a random state and returns\n",
        "        the original state\n",
        "\n",
        "        :return: state\n",
        "        \"\"\"\n",
        "        pass\n",
        "    \n",
        "    def draw(self):\n",
        "        \"\"\"\n",
        "        Visualize in the console or graphically the current state\n",
        "        \"\"\"\n",
        "        pass"
      ],
      "execution_count": 0,
      "outputs": []
    },
    {
      "metadata": {
        "id": "YlbZndDDchaQ",
        "colab_type": "text"
      },
      "cell_type": "markdown",
      "source": [
        "The method ```act``` allows to act on the environment at a given state $s_t$ (stored internally), via action $a_t$. The method will return the new state $s_{t+1}$, the reward $r(s_{t},a_{t})$ and determines if $t\\leq T$ (*game_over*).\n",
        "\n",
        "The method ```reset``` simply reinitializes the environment to a random state $s_0$.\n",
        "\n",
        "The method ```draw``` displays the current state $s_t$ (this is useful to check the behavior of the Agent).\n",
        "\n",
        "We modelize $s_t$ as a tensor, while $a_t$ is an integer."
      ]
    },
    {
      "metadata": {
        "id": "JdtImDQGchaQ",
        "colab_type": "text"
      },
      "cell_type": "markdown",
      "source": [
        "### The Agent"
      ]
    },
    {
      "metadata": {
        "id": "bemYZbUMchaS",
        "colab_type": "text"
      },
      "cell_type": "markdown",
      "source": [
        "The goal of the ```Agent``` is to interact with the ```Environment``` by proposing actions $a_t$ obtained from a given state $s_t$ to attempt to maximize its __reward__ $r(s_t,a_t)$. We propose the following abstract class:"
      ]
    },
    {
      "metadata": {
        "id": "nnUISzTLchaU",
        "colab_type": "code",
        "colab": {}
      },
      "cell_type": "code",
      "source": [
        "class Agent(object):\n",
        "    def __init__(self, epsilon=0.1, n_action=4):\n",
        "        self.epsilon = epsilon\n",
        "        self.n_action = n_action\n",
        "    \n",
        "    def set_epsilon(self,e):\n",
        "        self.epsilon = e\n",
        "\n",
        "    def act(self,s,train=True):\n",
        "        \"\"\" This function should return the next action to do:\n",
        "        an integer between 0 and 4 (not included) with a random exploration of epsilon\"\"\"\n",
        "        if train:\n",
        "            if np.random.rand() <= self.epsilon:\n",
        "                a = np.random.randint(0, self.n_action, size=1)[0]\n",
        "            else:\n",
        "                a = self.learned_act(s)\n",
        "        else: # in some cases, this can improve the performance.. remove it if poor performances\n",
        "            a = self.learned_act(s)\n",
        "\n",
        "        return a\n",
        "\n",
        "    def learned_act(self,s):\n",
        "        \"\"\" Act via the policy of the agent, from a given state s\n",
        "        it proposes an action a\"\"\"\n",
        "        pass\n",
        "\n",
        "    def reinforce(self, s, n_s, a, r, game_over_):\n",
        "        \"\"\" This function is the core of the learning algorithm. \n",
        "        It takes as an input the current state s_, the next state n_s_\n",
        "        the action a_ used to move from s_ to n_s_ and the reward r_.\n",
        "        \n",
        "        Its goal is to learn a policy.\n",
        "        \"\"\"\n",
        "        pass\n",
        "\n",
        "    def save(self):\n",
        "        \"\"\" This function returns basic stats if applicable: the\n",
        "        loss and/or the model\"\"\"\n",
        "        pass\n",
        "\n",
        "    def load(self):\n",
        "        \"\"\" This function allows to restore a model\"\"\"\n",
        "        pass"
      ],
      "execution_count": 0,
      "outputs": []
    },
    {
      "metadata": {
        "id": "PL0zLDBvchaX",
        "colab_type": "text"
      },
      "cell_type": "markdown",
      "source": [
        "***\n",
        "__Question 1__:\n",
        "Explain the function act. Why is ```epsilon``` essential?"
      ]
    },
    {
      "metadata": {
        "id": "9Pm6PWhXchaY",
        "colab_type": "text"
      },
      "cell_type": "markdown",
      "source": [
        "The method act in class Agent defines the $\\epsilon$-greedy policy, it allows to make a tradeoff between exploration and exploitation by taking an action according to the learned policy with probability $1 - \\epsilon$ and  random action with probability $\\epsilon$"
      ]
    },
    {
      "metadata": {
        "id": "z48HFMELchaa",
        "colab_type": "text"
      },
      "cell_type": "markdown",
      "source": [
        "***\n",
        "### The Game"
      ]
    },
    {
      "metadata": {
        "id": "uXnBZoAUchab",
        "colab_type": "text"
      },
      "cell_type": "markdown",
      "source": [
        "The ```Agent``` and the ```Environment``` work in an interlaced way as in the following (take some time to understand this code as it is the core of the project)\n",
        "\n",
        "```python\n",
        "\n",
        "epoch = 300\n",
        "env = Environment()\n",
        "agent = Agent()\n",
        "\n",
        "\n",
        "# Number of won games\n",
        "score = 0\n",
        "loss = 0\n",
        "\n",
        "\n",
        "for e in range(epoch):\n",
        "    # At each epoch, we restart to a fresh game and get the initial state\n",
        "    state = env.reset()\n",
        "    # This assumes that the games will end\n",
        "    game_over = False\n",
        "\n",
        "    win = 0\n",
        "    lose = 0\n",
        "    \n",
        "    while not game_over:\n",
        "        # The agent performs an action\n",
        "        action = agent.act(state)\n",
        "\n",
        "        # Apply an action to the environment, get the next state, the reward\n",
        "        # and if the games end\n",
        "        prev_state = state\n",
        "        state, reward, game_over = env.act(action)\n",
        "\n",
        "        # Update the counters\n",
        "        if reward > 0:\n",
        "            win = win + reward\n",
        "        if reward < 0:\n",
        "            lose = lose -reward\n",
        "\n",
        "        # Apply the reinforcement strategy\n",
        "        loss = agent.reinforce(prev_state, state,  action, reward, game_over)\n",
        "\n",
        "    # Save as a mp4\n",
        "    if e % 10 == 0:\n",
        "        env.draw(e)\n",
        "\n",
        "    # Update stats\n",
        "    score += win-lose\n",
        "\n",
        "    print(\"Epoch {:03d}/{:03d} | Loss {:.4f} | Win/lose count {}/{} ({})\"\n",
        "          .format(e, epoch, loss, win, lose, win-lose))\n",
        "    agent.save()\n",
        "```"
      ]
    },
    {
      "metadata": {
        "id": "TCQDfGN2chac",
        "colab_type": "text"
      },
      "cell_type": "markdown",
      "source": [
        "# The game, *eat cheese*"
      ]
    },
    {
      "metadata": {
        "id": "mUjtx4nochae",
        "colab_type": "text"
      },
      "cell_type": "markdown",
      "source": [
        "A rat runs on an island and tries to eat as much as possible. The island is subdivided into $N\\times N$ cells, in which there are cheese (+0.5) and poisonous cells (-1). The rat has a visibility of 2 cells (thus it can see $5^2$ cells). The rat is given a time $T$ to accumulate as much food as possible. It can perform 4 actions: going up, down, left, right. \n",
        "\n",
        "The goal is to code an agent to solve this task that will learn by trial and error. We propose the following environment:"
      ]
    },
    {
      "metadata": {
        "id": "lQTInXQ8chag",
        "colab_type": "code",
        "colab": {}
      },
      "cell_type": "code",
      "source": [
        "class Environment(object):\n",
        "    def __init__(self, grid_size=10, max_time=500, temperature=0.1):\n",
        "        grid_size = grid_size + 4\n",
        "        self.grid_size = grid_size\n",
        "        self.max_time = max_time\n",
        "        self.temperature = temperature\n",
        "\n",
        "        #board on which one plays\n",
        "        self.board = np.zeros((grid_size,grid_size))\n",
        "        self.position = np.zeros((grid_size,grid_size))\n",
        "\n",
        "        # coordinate of the rat\n",
        "        self.x = 0\n",
        "        self.y = 1\n",
        "\n",
        "        # self time\n",
        "        self.t = 0\n",
        "\n",
        "        self.scale=16\n",
        "\n",
        "        self.to_draw = np.zeros((max_time+2, grid_size*self.scale, grid_size*self.scale, 3))\n",
        "\n",
        "\n",
        "    def draw(self,e):\n",
        "        skvideo.io.vwrite(str(e) + '.mp4', self.to_draw)\n",
        "\n",
        "    def get_frame(self,t):\n",
        "        b = np.zeros((self.grid_size,self.grid_size,3))+128\n",
        "        b[self.board>0,0] = 256\n",
        "        b[self.board < 0, 2] = 256\n",
        "        b[self.x,self.y,:]=256\n",
        "        b[-2:,:,:]=0\n",
        "        b[:,-2:,:]=0\n",
        "        b[:2,:,:]=0\n",
        "        b[:,:2,:]=0\n",
        "        \n",
        "        b =  cv2.resize(b, None, fx=self.scale, fy=self.scale, interpolation=cv2.INTER_NEAREST)\n",
        "\n",
        "        self.to_draw[t,:,:,:]=b\n",
        "\n",
        "\n",
        "    def act(self, action):\n",
        "        \"\"\"This function returns the new state, reward and decides if the\n",
        "        game ends.\"\"\"\n",
        "\n",
        "        self.get_frame(int(self.t))\n",
        "\n",
        "        self.position = np.zeros((self.grid_size, self.grid_size))\n",
        "\n",
        "        self.position[0:2,:]= -1\n",
        "        self.position[:,0:2] = -1\n",
        "        self.position[-2:, :] = -1\n",
        "        self.position[-2:, :] = -1\n",
        "\n",
        "        self.position[self.x, self.y] = 1\n",
        "        if action == 0:\n",
        "            if self.x == self.grid_size-3:\n",
        "                self.x = self.x-1\n",
        "            else:\n",
        "                self.x = self.x + 1\n",
        "        elif action == 1:\n",
        "            if self.x == 2:\n",
        "                self.x = self.x+1\n",
        "            else:\n",
        "                self.x = self.x-1\n",
        "        elif action == 2:\n",
        "            if self.y == self.grid_size - 3:\n",
        "                self.y = self.y - 1\n",
        "            else:\n",
        "                self.y = self.y + 1\n",
        "        elif action == 3:\n",
        "            if self.y == 2:\n",
        "                self.y = self.y + 1\n",
        "            else:\n",
        "                self.y = self.y - 1\n",
        "        else:\n",
        "            RuntimeError('Error: action not recognized')\n",
        "\n",
        "        self.t = self.t + 1\n",
        "        reward = self.board[self.x, self.y]\n",
        "        self.board[self.x, self.y] = 0\n",
        "        game_over = self.t > self.max_time\n",
        "        state = np.concatenate((self.board.reshape(self.grid_size, self.grid_size,1),\n",
        "                        self.position.reshape(self.grid_size, self.grid_size,1)),axis=2)\n",
        "        state = state[self.x-2:self.x+3,self.y-2:self.y+3,:]\n",
        "\n",
        "        return state, reward, game_over\n",
        "\n",
        "    def reset(self):\n",
        "        \"\"\"This function resets the game and returns the initial state\"\"\"\n",
        "\n",
        "        self.x = np.random.randint(3, self.grid_size-3, size=1)[0]\n",
        "        self.y = np.random.randint(3, self.grid_size-3, size=1)[0]\n",
        "\n",
        "\n",
        "        bonus = 0.5*np.random.binomial(1,self.temperature,size=self.grid_size**2)\n",
        "        bonus = bonus.reshape(self.grid_size,self.grid_size)\n",
        "\n",
        "        malus = -1.0*np.random.binomial(1,self.temperature,size=self.grid_size**2)\n",
        "        malus = malus.reshape(self.grid_size, self.grid_size)\n",
        "\n",
        "        self.to_draw = np.zeros((self.max_time+2, self.grid_size*self.scale, self.grid_size*self.scale, 3))\n",
        "\n",
        "\n",
        "        malus[bonus>0]=0\n",
        "\n",
        "        self.board = bonus + malus\n",
        "\n",
        "        self.position = np.zeros((self.grid_size, self.grid_size))\n",
        "        self.position[0:2,:]= -1\n",
        "        self.position[:,0:2] = -1\n",
        "        self.position[-2:, :] = -1\n",
        "        self.position[-2:, :] = -1\n",
        "        self.board[self.x,self.y] = 0\n",
        "        self.t = 0\n",
        "\n",
        "        state = np.concatenate((\n",
        "                               self.board.reshape(self.grid_size, self.grid_size,1),\n",
        "                        self.position.reshape(self.grid_size, self.grid_size,1)),axis=2)\n",
        "\n",
        "        state = state[self.x - 2:self.x + 3, self.y - 2:self.y + 3, :]\n",
        "        return state"
      ],
      "execution_count": 0,
      "outputs": []
    },
    {
      "metadata": {
        "id": "ussqVmmRchak",
        "colab_type": "text"
      },
      "cell_type": "markdown",
      "source": [
        "The following elements are important because they correspond to the hyper parameters for this project:"
      ]
    },
    {
      "metadata": {
        "id": "Y7ZGIZ2Schal",
        "colab_type": "code",
        "colab": {}
      },
      "cell_type": "code",
      "source": [
        "# parameters\n",
        "size = 13\n",
        "T=200\n",
        "temperature=0.3\n",
        "epochs_train=20 # set small when debugging\n",
        "epochs_test=20 # set small when debugging\n",
        "\n",
        "# display videos\n",
        "def display_videos(name):\n",
        "    video = io.open(name, 'r+b').read()\n",
        "    encoded = base64.b64encode(video)\n",
        "    return '''<video alt=\"test\" controls>\n",
        "                <source src=\"data:video/mp4;base64,{0}\" type=\"video/mp4\" />\n",
        "             </video>'''.format(encoded.decode('ascii'))"
      ],
      "execution_count": 0,
      "outputs": []
    },
    {
      "metadata": {
        "id": "pvBqdcdTchar",
        "colab_type": "text"
      },
      "cell_type": "markdown",
      "source": [
        "__Question 2__ Explain the use of the arrays ```position``` and ```board```."
      ]
    },
    {
      "metadata": {
        "id": "QihzOvojchas",
        "colab_type": "text"
      },
      "cell_type": "markdown",
      "source": [
        "- The array board represents the grid of rewards (cheese and poisonous celles), each time the rat is in some coordinates $(x, y)$ it gets $borad[x, y]$ as a reward and we set the value (reward) of that cell to $0$ since it has been consumed.\n",
        "\n",
        "- The array position defines the borders of the grid, this way the agent cannot go outside of the grid.\n"
      ]
    },
    {
      "metadata": {
        "id": "n3yhMCmzchat",
        "colab_type": "text"
      },
      "cell_type": "markdown",
      "source": [
        "## Random Agent"
      ]
    },
    {
      "metadata": {
        "id": "uZkGFRbjchav",
        "colab_type": "text"
      },
      "cell_type": "markdown",
      "source": [
        "***\n",
        "__Question 3__ Implement a random Agent (only ```learned_act``` needs to be implemented):"
      ]
    },
    {
      "metadata": {
        "id": "GNz6mmxcchaw",
        "colab_type": "code",
        "colab": {}
      },
      "cell_type": "code",
      "source": [
        "class RandomAgent(Agent):\n",
        "    def __init__(self):\n",
        "        super(RandomAgent, self).__init__()\n",
        "        pass\n",
        "\n",
        "    def learned_act(self, s):\n",
        "        \"\"\"\n",
        "        Take a random action from the set of possible actions.\n",
        "        \"\"\"\n",
        "        return np.random.randint(0, self.n_action)"
      ],
      "execution_count": 0,
      "outputs": []
    },
    {
      "metadata": {
        "id": "c8yHxsUicha1",
        "colab_type": "text"
      },
      "cell_type": "markdown",
      "source": [
        "***\n",
        "***\n",
        "__Question 4__ Visualize the game moves. You need to fill in the following function for the evaluation:"
      ]
    },
    {
      "metadata": {
        "id": "5Sm_HuN7cha2",
        "colab_type": "code",
        "colab": {}
      },
      "cell_type": "code",
      "source": [
        "def test(agent,env,epochs,prefix=''):\n",
        "    # Number of won games\n",
        "    score = 0\n",
        "        \n",
        "    for e in range(epochs):\n",
        "        \n",
        "        ##### FILL IN HERE\n",
        "      # At each epoch, we restart to a fresh game and get the initial state\n",
        "      state = env.reset()\n",
        "      # This assumes that the games will end\n",
        "      game_over = False\n",
        "\n",
        "      win = 0\n",
        "      lose = 0\n",
        "\n",
        "      while not game_over:\n",
        "          # The agent performs an action according to the epsilon-greedy policy\n",
        "          action = agent.act(state)\n",
        "\n",
        "          # Apply an action to the environment, get the next state, the reward\n",
        "          # and if the games end\n",
        "          prev_state = state\n",
        "          state, reward, game_over = env.act(action)\n",
        "\n",
        "          # Update the counters\n",
        "          if reward > 0:\n",
        "              win = win + reward\n",
        "          if reward < 0:\n",
        "              lose = lose - reward\n",
        "        \n",
        "      # Save as a mp4\n",
        "      env.draw(prefix+str(e))\n",
        "\n",
        "      # Update stats\n",
        "      score = score + win-lose\n",
        "\n",
        "      print(\"Win/lose count {}/{}. Average score ({})\"\n",
        "            .format(win, lose, score/(1+e)))\n",
        "    print('Final score: '+str(score/epochs))"
      ],
      "execution_count": 0,
      "outputs": []
    },
    {
      "metadata": {
        "id": "rTX98i9gcha7",
        "colab_type": "code",
        "outputId": "28a46964-3d20-41b6-ef40-977114a70193",
        "colab": {
          "base_uri": "https://localhost:8080/",
          "height": 528
        }
      },
      "cell_type": "code",
      "source": [
        "# Initialize the game\n",
        "env = Environment(grid_size=size, max_time=T,temperature=temperature)\n",
        "\n",
        "# Initialize the agent!\n",
        "agent = RandomAgent()\n",
        "\n",
        "test(agent,env,epochs_test,prefix='random')\n",
        "HTML(display_videos('random0.mp4'))"
      ],
      "execution_count": 0,
      "outputs": [
        {
          "output_type": "stream",
          "text": [
            "Win/lose count 9.5/19.0. Average score (-9.5)\n",
            "Win/lose count 11.0/13.0. Average score (-5.75)\n",
            "Win/lose count 9.0/13.0. Average score (-5.166666666666667)\n",
            "Win/lose count 12.0/12.0. Average score (-3.875)\n",
            "Win/lose count 11.0/15.0. Average score (-3.9)\n",
            "Win/lose count 15.0/12.0. Average score (-2.75)\n",
            "Win/lose count 9.0/17.0. Average score (-3.5)\n",
            "Win/lose count 9.5/12.0. Average score (-3.375)\n",
            "Win/lose count 6.0/7.0. Average score (-3.111111111111111)\n",
            "Win/lose count 11.0/19.0. Average score (-3.6)\n",
            "Win/lose count 10.0/17.0. Average score (-3.909090909090909)\n",
            "Win/lose count 10.5/15.0. Average score (-3.9583333333333335)\n",
            "Win/lose count 6.0/18.0. Average score (-4.576923076923077)\n",
            "Win/lose count 10.0/14.0. Average score (-4.535714285714286)\n",
            "Win/lose count 10.0/17.0. Average score (-4.7)\n",
            "Win/lose count 8.0/9.0. Average score (-4.46875)\n",
            "Win/lose count 5.0/13.0. Average score (-4.676470588235294)\n",
            "Win/lose count 9.5/9.0. Average score (-4.388888888888889)\n",
            "Win/lose count 5.5/16.0. Average score (-4.7105263157894735)\n",
            "Win/lose count 9.0/17.0. Average score (-4.875)\n",
            "Final score: -4.875\n"
          ],
          "name": "stdout"
        },
        {
          "output_type": "execute_result",
          "data": {
            "text/html": [
              "<video alt=\"test\" controls>\n",
              "                <source src=\"data:video/mp4;base64,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\" type=\"video/mp4\" />\n",
              "             </video>"
            ],
            "text/plain": [
              "<IPython.core.display.HTML object>"
            ]
          },
          "metadata": {
            "tags": []
          },
          "execution_count": 88
        }
      ]
    },
    {
      "metadata": {
        "id": "l9qC45Q_chbC",
        "colab_type": "text"
      },
      "cell_type": "markdown",
      "source": [
        "***\n",
        "## DQN"
      ]
    },
    {
      "metadata": {
        "id": "YEHM1iCwchbE",
        "colab_type": "text"
      },
      "cell_type": "markdown",
      "source": [
        "Let us assume here that $T=\\infty$.\n",
        "\n",
        "***\n",
        "__Question 5__ Let $\\pi$ be a policy, show that:\n",
        "\n",
        "\\begin{equation*}\n",
        "Q^{\\pi}(s,a) = E_{s', a'\\sim p(.|s,a)}[r(s,a)+\\gamma Q^{\\pi}(s',a')]\n",
        "\\end{equation*}\n",
        "\n",
        "\n",
        "Show that for the optimal policy $\\pi^*$ (we assume its existence), the following holds: \n",
        "\n",
        "\\begin{equation*}\n",
        "Q^{*}(s,a)=E_{s'\\sim \\pi^*(.|s,a)}[r(s,a)+\\gamma\\max_{a'}Q^{*}(s',a')].\n",
        "\\end{equation*}\n",
        "\n",
        "\n",
        "Finally, deduce that a plausible objective is:\n",
        "\n",
        "\\begin{equation*}\n",
        "\\mathcal{L}(\\theta)=E_{s' \\sim \\pi^*(.|s,a)}\\Vert r+\\gamma\\max_{a'}Q(s',a',\\theta)-Q(s,a,\\theta)\\Vert^{2}.\n",
        "\\end{equation*}\n",
        "\n",
        "\n"
      ]
    },
    {
      "metadata": {
        "id": "J0LoV9AvchbF",
        "colab_type": "text"
      },
      "cell_type": "markdown",
      "source": [
        "- We have \n",
        "\n",
        "\\begin{align*}\n",
        "Q^{\\pi}(s,a) &= E_{p^{\\pi}(s_0, a_0, \\ldots)}\\left(\\sum_{t=0}^{\\infty} \\gamma^t r(s_t, a_t) | s_0 = s, a_0 = a \\right) \\\\\n",
        "&= E_{p^{\\pi}(s_0, a_0, \\ldots)}\\left(r(s_0, a_0) + \\sum_{t=1}^{\\infty} \\gamma^t r(s_t, a_t) | s_0 = s, a_0 = a \\right) \\\\\n",
        "&= E_{p^{\\pi}(s_0, a_0, \\ldots)}\\left(r(s_0, a_0) + \\gamma\\sum_{t=0}^{\\infty} \\gamma^t r(s_t, a_t) | s_0 = s, a_0 = a \\right)  \\\\\n",
        "&= E_{p^{\\pi}(s, a, s', a' )}\\left(E_{p^{\\pi}(s_1, a_1, \\ldots)}\\left(r(s_0, a_0) + \\gamma \\sum_{t=0}^{\\infty}\\gamma^t r(s_{t+1}, a_{t+1}) | s_1 = s', a_1 = a' \\right) | s_0 = s, a_0 = a \\right) \\\\\n",
        "&= E_{p^{\\pi}(s, a, s', a' )}\\left(r(s, a) + \\gamma E_{p^{\\pi}(s_1, a_1, \\ldots)}\\left( \\sum_{t=0}^{\\infty}\\gamma^t r(s_{t+1}, a_{t+1}) | s_1 = s', a_1 = a' \\right)  \\right) \\\\\n",
        "&= E_{s' \\sim p(.|s, a);a' \\sim \\pi(.|s')}\\left(r(s, a) + \\gamma Q^{\\pi}(s', a') \\right)\n",
        "\\end{align*}\n",
        "\n",
        "Notice that when we use $p^{\\pi}(s, a, s', a')$ or with any subset of random variables, we are in fact using the marginal distribution over the remaining variables.\n",
        "\n",
        "\n",
        "- We assume that the optimal policy is deterministic or at least of very low entropy, we have then:\n",
        "\n",
        "\\begin{align*}\n",
        "Q^*(s, a) &= E_{s' \\sim p(.|s, a)}\\left(r(s, a) + \\gamma Q^*(s', \\pi^*(s')) \\right)\\\\\n",
        "&= E_{s'\\sim \\pi^*(.|s,a)}\\left(r(s,a)+\\gamma\\max_{a'}Q^{*}(s',a') \\right)\n",
        "\\end{align*}\n",
        "\n",
        "Minimizing the loss $\\mathcal{L}(\\theta)=E_{s' \\sim \\pi^*(.|s,a)}\\Vert r+\\gamma\\max_{a'}Q(s',a',\\theta)-Q(s,a,\\theta)\\Vert^{2}$ means that we get closer to satisfying the eqation of $Q^*$, in fact it is the equation of the fixed point of the optimal Bellman operator that admits a unique solution. This is what makes minimizing $\\mathcal{L}(\\theta)$ getting us closer to $Q^*$\n"
      ]
    },
    {
      "metadata": {
        "id": "Y1TzIAmLchbG",
        "colab_type": "text"
      },
      "cell_type": "markdown",
      "source": [
        "***\n",
        "The DQN-learning algorithm relies on these derivations to train the parameters $\\theta$ of a Deep Neural Network:\n",
        "\n",
        "1. At the state $s_t$, select the action $a_t$ with best reward using $Q_t$ and store the results;\n",
        "\n",
        "2. Obtain the new state $s_{t+1}$ from the environment $p$;\n",
        "\n",
        "3. Store $(s_t,a_t,s_{t+1})$;\n",
        "\n",
        "4. Obtain $Q_{t+1}$ by minimizing  $\\mathcal{L}$ from a recovered batch from the previously stored results.\n",
        "\n",
        "***\n",
        "__Question 6__ Implement the class ```Memory``` that stores moves (in a replay buffer) via ```remember``` and provides a ```random_access``` to these. Specify a maximum memory size to avoid side effects. You can for example use a ```list()``` and set by default ```max_memory=100```."
      ]
    },
    {
      "metadata": {
        "id": "nNHEN6BdchbH",
        "colab_type": "code",
        "colab": {}
      },
      "cell_type": "code",
      "source": [
        "class Memory(object):\n",
        "    def __init__(self, max_memory=100):\n",
        "        self.max_memory = max_memory\n",
        "        self.memory = list()\n",
        "\n",
        "    def remember(self, m):\n",
        "        self.memory.append(m)\n",
        "\n",
        "    def random_access(self):\n",
        "        return random.choice(self.memory)"
      ],
      "execution_count": 0,
      "outputs": []
    },
    {
      "metadata": {
        "id": "hDvQTCeachbO",
        "colab_type": "text"
      },
      "cell_type": "markdown",
      "source": [
        "***\n",
        "The pipeline we will use for training is given below:"
      ]
    },
    {
      "metadata": {
        "id": "XH8DkOEachbP",
        "colab_type": "code",
        "colab": {}
      },
      "cell_type": "code",
      "source": [
        "def train(agent,env,epoch,prefix=''):\n",
        "    # Number of won games\n",
        "    score = 0\n",
        "    loss = 0\n",
        "\n",
        "    for e in range(epoch):\n",
        "        # At each epoch, we restart to a fresh game and get the initial state\n",
        "        state = env.reset()\n",
        "        # This assumes that the games will terminate\n",
        "        game_over = False\n",
        "\n",
        "        win = 0\n",
        "        lose = 0\n",
        "\n",
        "        while not game_over:\n",
        "            # The agent performs an action\n",
        "            action = agent.act(state)\n",
        "\n",
        "            # Apply an action to the environment, get the next state, the reward\n",
        "            # and if the games end\n",
        "            prev_state = state\n",
        "            state, reward, game_over = env.act(action)\n",
        "\n",
        "            # Update the counters\n",
        "            if reward > 0:\n",
        "                win = win + reward\n",
        "            if reward < 0:\n",
        "                lose = lose -reward\n",
        "\n",
        "            # Apply the reinforcement strategy\n",
        "            loss = agent.reinforce(prev_state, state,  action, reward, game_over)\n",
        "\n",
        "        # Save as a mp4\n",
        "        if (e + 1) % 10 == 0:\n",
        "            env.draw(prefix+str(e + 1))\n",
        "\n",
        "        # Update stats\n",
        "        score += win-lose\n",
        "\n",
        "        print(\"Epoch {:03d}/{:03d} | Loss {:.4f} | Win/lose count {}/{} ({})\"\n",
        "              .format(e, epoch, loss, win, lose, win-lose))\n",
        "        agent.save(name_weights=prefix+'model.h5',name_model=prefix+'model.json')"
      ],
      "execution_count": 0,
      "outputs": []
    },
    {
      "metadata": {
        "id": "Oz94JZWwchbU",
        "colab_type": "text"
      },
      "cell_type": "markdown",
      "source": [
        "***\n",
        "__Question 7__ Implement the DQN training algorithm using a cascade of fully connected layers. You can use different learning rate, batch size or memory size parameters. In particular, the loss might oscillate while the player will start to win the games. You have to find a good criterium."
      ]
    },
    {
      "metadata": {
        "id": "7ZKwXnmrchbU",
        "colab_type": "code",
        "colab": {}
      },
      "cell_type": "code",
      "source": [
        "class DQN(Agent):\n",
        "    def __init__(self, grid_size,  epsilon = 0.1, memory_size=100, batch_size = 16, n_state=2):\n",
        "        super(DQN, self).__init__(epsilon = epsilon)\n",
        "\n",
        "        # Discount for Q learning\n",
        "        self.discount = 0.99\n",
        "        \n",
        "        self.grid_size = grid_size\n",
        "        \n",
        "        # number of state\n",
        "        self.n_state = n_state\n",
        "\n",
        "        # Memory\n",
        "        self.memory = Memory(memory_size)\n",
        "        \n",
        "        # Batch size when learning\n",
        "        self.batch_size = batch_size\n",
        "\n",
        "    def learned_act(self, s):\n",
        "        return self.model.predict(s.reshape(1, 5, 5, self.n_state)).argmax()\n",
        "\n",
        "    def reinforce(self, s_, n_s_, a_, r_, game_over_):\n",
        "        # Two steps: first memorize the states, second learn from the pool\n",
        "\n",
        "        self.memory.remember([s_, n_s_, a_, r_, game_over_])\n",
        "        \n",
        "        on_batch = min(self.batch_size, len(self.memory.memory)) # Number of training samples, it is useful in the beginning when the number of experiences\n",
        "                                                                 # stored in the replay buffer is inferior to the batch size.\n",
        "        input_states = np.zeros((on_batch, 5, 5, self.n_state))  # Initialize the input states.\n",
        "        target_q = np.zeros((on_batch, self.n_action))           # Initialize the target q values.\n",
        "        \n",
        "        for i in range(on_batch):\n",
        "            ######## FILL IN\n",
        "            s_, n_s_, a_, r_, game_over_ = self.memory.random_access() # randomy sample an experience from the replay buffer\n",
        "            input_states[i] = s_\n",
        "            target_q[i] = self.model.predict(s_.reshape(1, 5, 5, self.n_state)) # Since we train on an experience where input state is related to the action taken.\n",
        "                                                                                # we only want to backpropagate according to that action and not on all the output actions.\n",
        "            \n",
        "            if game_over_:\n",
        "                ######## FILL IN\n",
        "                target_q[i, a_] = r_\n",
        "                \n",
        "            else:\n",
        "                ######## FILL IN\n",
        "                target_q[i, a_] = r_ + self.discount*self.model.predict(n_s_.reshape(1, 5, 5, self.n_state)).max()\n",
        "                \n",
        "        ######## FILL IN\n",
        "        # HINT: Clip the target to avoid exploiding gradients.. -- clipping is a bit tighter\n",
        "        target_q = np.clip(target_q, -3, 3)\n",
        "\n",
        "        l = self.model.train_on_batch(input_states, target_q)\n",
        "        return l\n",
        "\n",
        "    def save(self,name_weights='model.h5',name_model='model.json'):\n",
        "        self.model.save_weights(name_weights, overwrite=True)\n",
        "        with open(name_model, \"w\") as outfile:\n",
        "            json.dump(self.model.to_json(), outfile)\n",
        "            \n",
        "    def load(self,name_weights='model.h5',name_model='model.json'):\n",
        "        with open(name_model, \"r\") as jfile:\n",
        "            model = model_from_json(json.load(jfile))\n",
        "        model.load_weights(name_weights)\n",
        "        model.compile(\"sgd\", \"mse\")\n",
        "        self.model = model\n",
        "\n",
        "            \n",
        "class DQN_FC(DQN):\n",
        "    def __init__(self, *args, lr=0.1,**kwargs):\n",
        "        super(DQN_FC, self).__init__( *args,**kwargs)\n",
        "        \n",
        "        # NN Model\n",
        "        \n",
        "        ####### FILL IN\n",
        "        model = Sequential()\n",
        "        model.add(Flatten(input_shape=(5, 5, self.n_state)))\n",
        "#         model.add(Dense(50, activation='relu'))\n",
        "        model.add(Dense(25, activation='relu'))\n",
        "        model.add(Dense(4, activation='linear'))\n",
        "        \n",
        "        model.compile(adam(lr=lr, decay=1e-4), \"mse\")\n",
        "        self.model = model\n",
        "        "
      ],
      "execution_count": 0,
      "outputs": []
    },
    {
      "metadata": {
        "id": "NM3VXqfLchbY",
        "colab_type": "code",
        "outputId": "34985f26-26fb-474a-e253-e5d00471f8c5",
        "colab": {
          "base_uri": "https://localhost:8080/",
          "height": 633
        }
      },
      "cell_type": "code",
      "source": [
        "# parameters\n",
        "size = 13\n",
        "T=200\n",
        "temperature=0.3\n",
        "epochs_train=20 # set small when debugging\n",
        "epochs_test=20 # set small when debugging\n",
        "\n",
        "env = Environment(grid_size=size, max_time=T, temperature=0.3)\n",
        "agent = DQN_FC(size, lr=1e-3, epsilon = 0.1, memory_size=2000, batch_size = 32)\n",
        "train(agent, env, epochs_train, prefix='fc_train')\n",
        "HTML(display_videos('fc_train20.mp4'))"
      ],
      "execution_count": 0,
      "outputs": [
        {
          "output_type": "stream",
          "text": [
            "Epoch 000/020 | Loss 0.0051 | Win/lose count 1.0/4.0 (-3.0)\n",
            "Epoch 001/020 | Loss 0.0024 | Win/lose count 5.0/2.0 (3.0)\n",
            "Epoch 002/020 | Loss 0.0029 | Win/lose count 5.0/5.0 (0.0)\n",
            "Epoch 003/020 | Loss 0.0022 | Win/lose count 4.5/8.0 (-3.5)\n",
            "Epoch 004/020 | Loss 0.0114 | Win/lose count 7.0/0 (7.0)\n",
            "Epoch 005/020 | Loss 0.0032 | Win/lose count 5.0/3.0 (2.0)\n",
            "Epoch 006/020 | Loss 0.0068 | Win/lose count 9.0/3.0 (6.0)\n",
            "Epoch 007/020 | Loss 0.0079 | Win/lose count 6.0/4.0 (2.0)\n",
            "Epoch 008/020 | Loss 0.0070 | Win/lose count 7.5/2.0 (5.5)\n",
            "Epoch 009/020 | Loss 0.0027 | Win/lose count 3.0/3.0 (0.0)\n",
            "Epoch 010/020 | Loss 0.0024 | Win/lose count 6.0/2.0 (4.0)\n",
            "Epoch 011/020 | Loss 0.0020 | Win/lose count 10.5/4.0 (6.5)\n",
            "Epoch 012/020 | Loss 0.0142 | Win/lose count 8.5/5.0 (3.5)\n",
            "Epoch 013/020 | Loss 0.0028 | Win/lose count 6.5/7.0 (-0.5)\n",
            "Epoch 014/020 | Loss 0.0556 | Win/lose count 2.0/2.0 (0.0)\n",
            "Epoch 015/020 | Loss 0.0078 | Win/lose count 6.5/2.0 (4.5)\n",
            "Epoch 016/020 | Loss 0.0047 | Win/lose count 4.5/5.0 (-0.5)\n",
            "Epoch 017/020 | Loss 0.0068 | Win/lose count 5.5/3.0 (2.5)\n",
            "Epoch 018/020 | Loss 0.0028 | Win/lose count 8.0/6.0 (2.0)\n",
            "Epoch 019/020 | Loss 0.0023 | Win/lose count 7.0/2.0 (5.0)\n"
          ],
          "name": "stdout"
        },
        {
          "output_type": "execute_result",
          "data": {
            "text/html": [
              "<video alt=\"test\" controls>\n",
              "                <source src=\"data:video/mp4;base64,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\" type=\"video/mp4\" />\n",
              "             </video>"
            ],
            "text/plain": [
              "<IPython.core.display.HTML object>"
            ]
          },
          "metadata": {
            "tags": []
          },
          "execution_count": 92
        }
      ]
    },
    {
      "metadata": {
        "id": "c5w22Dk0chba",
        "colab_type": "text"
      },
      "cell_type": "markdown",
      "source": [
        "***\n",
        "***\n",
        "__Question 8__ Implement the DQN training algorithm using a CNN (for example, 2 convolutional layers and one final fully connected layer)."
      ]
    },
    {
      "metadata": {
        "id": "g-Jhv7lfchbc",
        "colab_type": "code",
        "colab": {}
      },
      "cell_type": "code",
      "source": [
        "class DQN_CNN(DQN):\n",
        "    def __init__(self, *args,lr=0.1,**kwargs):\n",
        "        super(DQN_CNN, self).__init__(*args,**kwargs)\n",
        "        \n",
        "        ###### FILL IN\n",
        "        model = Sequential()\n",
        "        model.add(Conv2D(8, (3, 3), activation='relu'))\n",
        "        model.add(Conv2D(16, (2, 2), activation='relu'))\n",
        "        model.add(Flatten())\n",
        "        model.add(Dense(4, activation='linear'))\n",
        "        \n",
        "        model.compile(adam(lr=lr, decay=1e-4), \"mse\")\n",
        "        self.model = model"
      ],
      "execution_count": 0,
      "outputs": []
    },
    {
      "metadata": {
        "id": "sb-f3Xgnchbf",
        "colab_type": "code",
        "outputId": "14c22da1-2e69-460c-add6-c88da1cb6c9f",
        "colab": {
          "base_uri": "https://localhost:8080/",
          "height": 633
        }
      },
      "cell_type": "code",
      "source": [
        "# parameters\n",
        "size = 13\n",
        "T=200\n",
        "temperature=0.3\n",
        "epochs_train=20 # set small when debugging\n",
        "epochs_test=20 # set small when debugging\n",
        "\n",
        "env = Environment(grid_size=size, max_time=T, temperature=0.3)\n",
        "agent = DQN_CNN(size, lr=1e-3, epsilon = 0.1, memory_size=2000, batch_size = 32)\n",
        "train(agent,env,epochs_train,prefix='cnn_train')\n",
        "HTML(display_videos('cnn_train20.mp4'))"
      ],
      "execution_count": 0,
      "outputs": [
        {
          "output_type": "stream",
          "text": [
            "Epoch 000/020 | Loss 0.0000 | Win/lose count 2.5/5.0 (-2.5)\n",
            "Epoch 001/020 | Loss 0.0584 | Win/lose count 3.0/2.0 (1.0)\n",
            "Epoch 002/020 | Loss 0.0092 | Win/lose count 7.5/5.0 (2.5)\n",
            "Epoch 003/020 | Loss 0.0029 | Win/lose count 4.0/5.0 (-1.0)\n",
            "Epoch 004/020 | Loss 0.0040 | Win/lose count 11.0/10.0 (1.0)\n",
            "Epoch 005/020 | Loss 0.0294 | Win/lose count 4.0/3.0 (1.0)\n",
            "Epoch 006/020 | Loss 0.0031 | Win/lose count 12.5/5.0 (7.5)\n",
            "Epoch 007/020 | Loss 0.0066 | Win/lose count 3.0/5.0 (-2.0)\n",
            "Epoch 008/020 | Loss 0.0045 | Win/lose count 8.5/5.0 (3.5)\n",
            "Epoch 009/020 | Loss 0.0027 | Win/lose count 0.5/1.0 (-0.5)\n",
            "Epoch 010/020 | Loss 0.0051 | Win/lose count 14.5/6.0 (8.5)\n",
            "Epoch 011/020 | Loss 0.0023 | Win/lose count 5.0/0 (5.0)\n",
            "Epoch 012/020 | Loss 0.0518 | Win/lose count 12.0/3.0 (9.0)\n",
            "Epoch 013/020 | Loss 0.0050 | Win/lose count 10.0/1.0 (9.0)\n",
            "Epoch 014/020 | Loss 0.0032 | Win/lose count 12.5/3.0 (9.5)\n",
            "Epoch 015/020 | Loss 0.0061 | Win/lose count 13.0/3.0 (10.0)\n",
            "Epoch 016/020 | Loss 0.0056 | Win/lose count 4.0/2.0 (2.0)\n",
            "Epoch 017/020 | Loss 0.0020 | Win/lose count 10.0/2.0 (8.0)\n",
            "Epoch 018/020 | Loss 0.0019 | Win/lose count 7.0/1.0 (6.0)\n",
            "Epoch 019/020 | Loss 0.0465 | Win/lose count 6.0/0 (6.0)\n"
          ],
          "name": "stdout"
        },
        {
          "output_type": "execute_result",
          "data": {
            "text/html": [
              "<video alt=\"test\" controls>\n",
              "                <source src=\"data:video/mp4;base64,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\" type=\"video/mp4\" />\n",
              "             </video>"
            ],
            "text/plain": [
              "<IPython.core.display.HTML object>"
            ]
          },
          "metadata": {
            "tags": []
          },
          "execution_count": 96
        }
      ]
    },
    {
      "metadata": {
        "id": "LXwC58quchbi",
        "colab_type": "text"
      },
      "cell_type": "markdown",
      "source": [
        "***\n",
        "***\n",
        "__Question 9__ Test both algorithms and compare their performances. Which issue(s) do you observe? Observe also different behaviors by changing the temperature."
      ]
    },
    {
      "metadata": {
        "id": "anvZ5Qtfchbi",
        "colab_type": "code",
        "outputId": "a83a38a6-d244-4692-f573-68f50df02b44",
        "colab": {
          "base_uri": "https://localhost:8080/",
          "height": 765
        }
      },
      "cell_type": "code",
      "source": [
        "env = Environment(grid_size=size, max_time=T,temperature=0.3)\n",
        "agent_cnn = DQN_CNN(size, lr=1e-3, epsilon = 0.1, memory_size=2000, batch_size = 32)\n",
        "agent_cnn.load(name_weights='cnn_trainmodel.h5',name_model='cnn_trainmodel.json')\n",
        "\n",
        "agent_fc = DQN_FC(size, lr=1e-3, epsilon = 0.1, memory_size=2000, batch_size = 32)\n",
        "agent_fc.load(name_weights='fc_trainmodel.h5',name_model='fc_trainmodel.json')\n",
        "print('Test of the CNN')\n",
        "test(agent_cnn,env,epochs_test,prefix='cnn_test')\n",
        "print('Test of the FC')\n",
        "test(agent_fc,env,epochs_test,prefix='fc_test')"
      ],
      "execution_count": 0,
      "outputs": [
        {
          "output_type": "stream",
          "text": [
            "Test of the CNN\n",
            "Win/lose count 2.5/2.0. Average score (0.5)\n",
            "Win/lose count 10.0/2.0. Average score (4.25)\n",
            "Win/lose count 4.5/1.0. Average score (4.0)\n",
            "Win/lose count 10.0/2.0. Average score (5.0)\n",
            "Win/lose count 8.0/1.0. Average score (5.4)\n",
            "Win/lose count 5.5/4.0. Average score (4.75)\n",
            "Win/lose count 5.5/3.0. Average score (4.428571428571429)\n",
            "Win/lose count 10.5/3.0. Average score (4.8125)\n",
            "Win/lose count 9.5/2.0. Average score (5.111111111111111)\n",
            "Win/lose count 4.0/0. Average score (5.0)\n",
            "Win/lose count 4.5/0. Average score (4.954545454545454)\n",
            "Win/lose count 6.0/2.0. Average score (4.875)\n",
            "Win/lose count 9.0/4.0. Average score (4.884615384615385)\n",
            "Win/lose count 4.5/3.0. Average score (4.642857142857143)\n",
            "Win/lose count 4.5/0. Average score (4.633333333333334)\n",
            "Win/lose count 9.5/2.0. Average score (4.8125)\n",
            "Win/lose count 4.5/3.0. Average score (4.617647058823529)\n",
            "Win/lose count 10.5/5.0. Average score (4.666666666666667)\n",
            "Win/lose count 3.5/1.0. Average score (4.552631578947368)\n",
            "Win/lose count 4.5/3.0. Average score (4.4)\n",
            "Final score: 4.4\n",
            "Test of the FC\n",
            "Win/lose count 6.5/2.0. Average score (4.5)\n",
            "Win/lose count 8.0/0. Average score (6.25)\n",
            "Win/lose count 3.5/0. Average score (5.333333333333333)\n",
            "Win/lose count 5.5/3.0. Average score (4.625)\n",
            "Win/lose count 6.0/4.0. Average score (4.1)\n",
            "Win/lose count 6.5/0. Average score (4.5)\n",
            "Win/lose count 3.5/0. Average score (4.357142857142857)\n",
            "Win/lose count 3.0/1.0. Average score (4.0625)\n",
            "Win/lose count 2.0/2.0. Average score (3.611111111111111)\n",
            "Win/lose count 7.0/4.0. Average score (3.55)\n",
            "Win/lose count 4.5/1.0. Average score (3.5454545454545454)\n",
            "Win/lose count 4.5/1.0. Average score (3.5416666666666665)\n",
            "Win/lose count 8.0/1.0. Average score (3.8076923076923075)\n",
            "Win/lose count 9.5/1.0. Average score (4.142857142857143)\n",
            "Win/lose count 9.0/2.0. Average score (4.333333333333333)\n",
            "Win/lose count 7.0/1.0. Average score (4.4375)\n",
            "Win/lose count 13.0/3.0. Average score (4.764705882352941)\n",
            "Win/lose count 10.5/6.0. Average score (4.75)\n",
            "Win/lose count 5.0/2.0. Average score (4.657894736842105)\n",
            "Win/lose count 2.5/0. Average score (4.55)\n",
            "Final score: 4.55\n"
          ],
          "name": "stdout"
        }
      ]
    },
    {
      "metadata": {
        "id": "aMkiJdPVchbm",
        "colab_type": "code",
        "outputId": "4d8cc0b9-1f96-4fba-ec42-938439bc51c3",
        "colab": {
          "base_uri": "https://localhost:8080/",
          "height": 293
        }
      },
      "cell_type": "code",
      "source": [
        "HTML(display_videos('cnn_test10.mp4'))"
      ],
      "execution_count": 0,
      "outputs": [
        {
          "output_type": "execute_result",
          "data": {
            "text/html": [
              "<video alt=\"test\" controls>\n",
              "                <source src=\"data:video/mp4;base64,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\" type=\"video/mp4\" />\n",
              "             </video>"
            ],
            "text/plain": [
              "<IPython.core.display.HTML object>"
            ]
          },
          "metadata": {
            "tags": []
          },
          "execution_count": 98
        }
      ]
    },
    {
      "metadata": {
        "id": "7zsPcdXFchbq",
        "colab_type": "code",
        "outputId": "7cf3c560-0855-4340-d1d6-1891fd4fa05c",
        "colab": {
          "base_uri": "https://localhost:8080/",
          "height": 293
        }
      },
      "cell_type": "code",
      "source": [
        "HTML(display_videos('fc_test10.mp4'))"
      ],
      "execution_count": 0,
      "outputs": [
        {
          "output_type": "execute_result",
          "data": {
            "text/html": [
              "<video alt=\"test\" controls>\n",
              "                <source src=\"data:video/mp4;base64,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\" type=\"video/mp4\" />\n",
              "             </video>"
            ],
            "text/plain": [
              "<IPython.core.display.HTML object>"
            ]
          },
          "metadata": {
            "tags": []
          },
          "execution_count": 99
        }
      ]
    },
    {
      "metadata": {
        "id": "lwbZYPkTchbx",
        "colab_type": "text"
      },
      "cell_type": "markdown",
      "source": [
        "- Both the convolutional and fully connected models perform poorly as the agent tends to get stuck in a portion of the space, this is bad as the agent misses the opportunity of gathering more reward.\n",
        "\n",
        "- As the temperature decreases, the grid rewards become sparse and the issue becomes more apparent, as the agent rarely encouters reward the training becomes very hard."
      ]
    },
    {
      "metadata": {
        "id": "nDsgQK2Gchbx",
        "colab_type": "text"
      },
      "cell_type": "markdown",
      "source": [
        "***\n",
        "\n",
        "The algorithm tends to not explore the map which can be an issue. We propose two ideas in order to encourage exploration:\n",
        "1. Incorporating a decreasing $\\epsilon$-greedy exploration. You can use the method ```set_epsilon```\n",
        "2. Append via the environment a new state that describes if a cell has been visited or not\n",
        "\n",
        "***\n",
        "__Question 10__ Design a new ```train_explore``` function and environment class ```EnvironmentExploring``` to tackle the issue of exploration.\n",
        "\n"
      ]
    },
    {
      "metadata": {
        "id": "OiL9MKTychbz",
        "colab_type": "code",
        "colab": {}
      },
      "cell_type": "code",
      "source": [
        "def train_explore(agent,env,epoch,prefix='', eps_final = 0.1, decay_rate = 0.0005):\n",
        "    \"\"\"\n",
        "    This training scheme relies on a decaying epsilon for the epsilon-greedy policy, we start with a high epsilon (great exploration) and\n",
        "    anneal it down to eps_final (great exploitation).\n",
        "    \"\"\"\n",
        "    # Number of won games\n",
        "    score = 0\n",
        "    loss = 0\n",
        "    eps_start = agent.epsilon\n",
        "    step = 0\n",
        "\n",
        "    for e in range(epoch):\n",
        "        # At each epoch, we restart to a fresh game and get the initial state\n",
        "        state = env.reset()\n",
        "        # This assumes that the games will terminate\n",
        "        game_over = False\n",
        "\n",
        "        win = 0\n",
        "        lose = 0\n",
        "\n",
        "        while not game_over:\n",
        "            # The agent performs an action\n",
        "            action = agent.act(state)\n",
        "            eps = eps_final + (eps_start - eps_final)*np.exp(-step*decay_rate)\n",
        "            step += 1\n",
        "            agent.set_epsilon(eps)\n",
        "\n",
        "            # Apply an action to the environment, get the next state, the reward\n",
        "            # and if the games end\n",
        "            prev_state = state\n",
        "            state, reward, game_over = env.act(action)\n",
        "            reward -= env.malus_position[env.x, env.y] # In the training process, we penalize the agent for visiting previously visited cells.\n",
        "\n",
        "            # Update the counters\n",
        "            if reward > 0:\n",
        "                win = win + reward\n",
        "            elif reward < 0:\n",
        "                lose = lose -reward\n",
        "\n",
        "            # Apply the reinforcement strategy\n",
        "            loss = agent.reinforce(prev_state, state,  action, reward, game_over)\n",
        "\n",
        "        # Save as a mp4\n",
        "        if (e + 1) % 10 == 0:\n",
        "            env.draw(prefix+str(e + 1))\n",
        "\n",
        "        # Update stats\n",
        "        score += win-lose\n",
        "\n",
        "        print(\"Epoch {:03d}/{:03d} | Loss {:.4f} | Win/lose count {:.1f}/{:.1f} ({}) | explore_proba {:.2f}\"\n",
        "              .format(e, epoch, loss, win, lose, win-lose, eps))\n",
        "        agent.save(name_weights=prefix+'model.h5',name_model=prefix+'model.json')\n",
        "        \n",
        "class EnvironmentExploring(object):\n",
        "    def __init__(self, grid_size=10, max_time=500, temperature=0.1):\n",
        "        grid_size = grid_size + 4\n",
        "        self.grid_size = grid_size\n",
        "        self.max_time = max_time\n",
        "        self.temperature = temperature\n",
        "\n",
        "        #board on which one plays\n",
        "        self.board = np.zeros((grid_size,grid_size))\n",
        "        self.position = np.zeros((grid_size,grid_size))\n",
        "        self.malus_position = np.zeros((grid_size,grid_size))\n",
        "\n",
        "        # coordinate of the rat\n",
        "        self.x = 0\n",
        "        self.y = 1\n",
        "\n",
        "        # self time\n",
        "        self.t = 0\n",
        "\n",
        "        self.scale = 16\n",
        "\n",
        "        self.to_draw = np.zeros((max_time + 2, grid_size*self.scale, grid_size*self.scale, 3))\n",
        "\n",
        "\n",
        "    def draw(self,e):\n",
        "        skvideo.io.vwrite(str(e) + '.mp4', self.to_draw)\n",
        "\n",
        "    def get_frame(self,t):\n",
        "        b = np.zeros((self.grid_size,self.grid_size,3))+128\n",
        "        b[self.board>0,0] = 256\n",
        "        b[self.board < 0, 2] = 256\n",
        "        b[self.x,self.y,:]=256\n",
        "        b[-2:,:,:]=0\n",
        "        b[:,-2:,:]=0\n",
        "        b[:2,:,:]=0\n",
        "        b[:,:2,:]=0\n",
        "        \n",
        "        b =  cv2.resize(b, None, fx=self.scale, fy=self.scale, interpolation=cv2.INTER_NEAREST)\n",
        "\n",
        "        self.to_draw[t,:,:,:]=b\n",
        "\n",
        "\n",
        "    def act(self, action):\n",
        "        \"\"\"This function returns the new state, reward and decides if the\n",
        "        game ends.\"\"\"\n",
        "\n",
        "        self.get_frame(int(self.t))\n",
        "\n",
        "        self.position = np.zeros((self.grid_size, self.grid_size))\n",
        "\n",
        "        self.position[0:2,:]= -1\n",
        "        self.position[:,0:2] = -1\n",
        "        self.position[-2:, :] = -1\n",
        "        self.position[-2:, :] = -1\n",
        "\n",
        "        self.position[self.x, self.y] = 1\n",
        "        if action == 0:\n",
        "            if self.x == self.grid_size-3:\n",
        "                self.x = self.x-1\n",
        "            else:\n",
        "                self.x = self.x + 1\n",
        "        elif action == 1:\n",
        "            if self.x == 2:\n",
        "                self.x = self.x+1\n",
        "            else:\n",
        "                self.x = self.x-1\n",
        "        elif action == 2:\n",
        "            if self.y == self.grid_size - 3:\n",
        "                self.y = self.y - 1\n",
        "            else:\n",
        "                self.y = self.y + 1\n",
        "        elif action == 3:\n",
        "            if self.y == 2:\n",
        "                self.y = self.y + 1\n",
        "            else:\n",
        "                self.y = self.y - 1\n",
        "        else:\n",
        "            RuntimeError('Error: action not recognized')\n",
        "\n",
        "        self.t = self.t + 1\n",
        "        self.malus_position[self.x, self.y] = 0.1 # each previously visited cell holds a negative reward now.\n",
        "        reward = self.board[self.x, self.y]\n",
        "        self.board[self.x, self.y] = 0\n",
        "        game_over = self.t > self.max_time\n",
        "        state = np.concatenate((self.malus_position.reshape(self.grid_size, self.grid_size,1),\n",
        "                        self.board.reshape(self.grid_size, self.grid_size,1),\n",
        "                        self.position.reshape(self.grid_size, self.grid_size,1)),axis=2) # The information about previously visited states is now incorporated into the state representation.\n",
        "        state = state[self.x-2:self.x+3,self.y-2:self.y+3,:]\n",
        "\n",
        "        return state, reward, game_over\n",
        "\n",
        "    def reset(self):\n",
        "        \"\"\"This function resets the game and returns the initial state\"\"\"\n",
        "\n",
        "        self.x = np.random.randint(3, self.grid_size-3, size=1)[0]\n",
        "        self.y = np.random.randint(3, self.grid_size-3, size=1)[0]\n",
        "\n",
        "\n",
        "        bonus = 0.5*np.random.binomial(1,self.temperature,size=self.grid_size**2)\n",
        "        bonus = bonus.reshape(self.grid_size,self.grid_size)\n",
        "\n",
        "        malus = -1.0*np.random.binomial(1,self.temperature,size=self.grid_size**2)\n",
        "        malus = malus.reshape(self.grid_size, self.grid_size)\n",
        "\n",
        "        self.to_draw = np.zeros((self.max_time+2, self.grid_size*self.scale, self.grid_size*self.scale, 3))\n",
        "\n",
        "\n",
        "        malus[bonus>0]=0\n",
        "\n",
        "        self.board = bonus + malus\n",
        "        \n",
        "        self.malus_position = np.zeros((self.grid_size,self.grid_size))\n",
        "        self.malus_position[self.x, self.y] = 0.1\n",
        "        self.position = np.zeros((self.grid_size, self.grid_size))\n",
        "        self.position[0:2,:]= -1\n",
        "        self.position[:,0:2] = -1\n",
        "        self.position[-2:, :] = -1\n",
        "        self.position[-2:, :] = -1\n",
        "        self.board[self.x,self.y] = 0\n",
        "        self.t = 0\n",
        "\n",
        "        state = np.concatenate((self.malus_position.reshape(self.grid_size, self.grid_size,1),\n",
        "                               self.board.reshape(self.grid_size, self.grid_size,1),\n",
        "                        self.position.reshape(self.grid_size, self.grid_size,1)),axis=2)\n",
        "\n",
        "        state = state[self.x - 2:self.x + 3, self.y - 2:self.y + 3, :]\n",
        "        return state"
      ],
      "execution_count": 0,
      "outputs": []
    },
    {
      "metadata": {
        "id": "4SK3uCVPn7lx",
        "colab_type": "code",
        "outputId": "aba0d4b8-e75a-4c85-ae25-02215e5a92e0",
        "colab": {
          "base_uri": "https://localhost:8080/",
          "height": 1993
        }
      },
      "cell_type": "code",
      "source": [
        "# Training\n",
        "# parameters\n",
        "size = 13\n",
        "T=200\n",
        "temperature=0.3\n",
        "epochs_train=100 # set small when debugging\n",
        "epochs_test=20 # set small when debugging\n",
        "\n",
        "env = EnvironmentExploring(grid_size=size, max_time=T, temperature=0.3)\n",
        "agent = DQN_FC(size, lr=1e-3, epsilon = 0.9, memory_size=2000, batch_size = 32, n_state=3)\n",
        "train_explore(agent, env, epochs_train, prefix='fc_train_explore')\n",
        "HTML(display_videos('fc_train_explore100.mp4'))"
      ],
      "execution_count": 0,
      "outputs": [
        {
          "output_type": "stream",
          "text": [
            "Epoch 000/100 | Loss 0.0209 | Win/lose count 10.0/36.6 (-26.600000000000126) | explore_proba 0.82\n",
            "Epoch 001/100 | Loss 0.0250 | Win/lose count 8.0/31.1 (-23.100000000000144) | explore_proba 0.75\n",
            "Epoch 002/100 | Loss 0.0151 | Win/lose count 6.8/33.4 (-26.600000000000126) | explore_proba 0.69\n",
            "Epoch 003/100 | Loss 0.0087 | Win/lose count 11.6/22.2 (-10.600000000000055) | explore_proba 0.64\n",
            "Epoch 004/100 | Loss 0.0089 | Win/lose count 7.6/30.2 (-22.600000000000122) | explore_proba 0.58\n",
            "Epoch 005/100 | Loss 0.0093 | Win/lose count 5.6/30.7 (-25.10000000000013) | explore_proba 0.54\n",
            "Epoch 006/100 | Loss 0.0048 | Win/lose count 7.6/28.2 (-20.6000000000001) | explore_proba 0.50\n",
            "Epoch 007/100 | Loss 0.0088 | Win/lose count 12.8/20.9 (-8.100000000000035) | explore_proba 0.46\n",
            "Epoch 008/100 | Loss 0.0197 | Win/lose count 12.0/27.1 (-15.100000000000039) | explore_proba 0.42\n",
            "Epoch 009/100 | Loss 0.0062 | Win/lose count 14.0/24.6 (-10.600000000000026) | explore_proba 0.39\n",
            "Epoch 010/100 | Loss 0.0416 | Win/lose count 7.6/24.2 (-16.60000000000007) | explore_proba 0.36\n",
            "Epoch 011/100 | Loss 0.0069 | Win/lose count 3.6/23.2 (-19.60000000000005) | explore_proba 0.34\n",
            "Epoch 012/100 | Loss 0.0097 | Win/lose count 6.4/21.5 (-15.100000000000009) | explore_proba 0.32\n",
            "Epoch 013/100 | Loss 0.0083 | Win/lose count 14.8/23.4 (-8.600000000000051) | explore_proba 0.30\n",
            "Epoch 014/100 | Loss 0.0103 | Win/lose count 11.2/21.3 (-10.100000000000042) | explore_proba 0.28\n",
            "Epoch 015/100 | Loss 0.0275 | Win/lose count 10.4/22.5 (-12.100000000000042) | explore_proba 0.26\n",
            "Epoch 016/100 | Loss 0.0077 | Win/lose count 8.8/22.9 (-14.10000000000005) | explore_proba 0.24\n",
            "Epoch 017/100 | Loss 0.0304 | Win/lose count 12.8/24.9 (-12.100000000000096) | explore_proba 0.23\n",
            "Epoch 018/100 | Loss 0.0129 | Win/lose count 8.8/23.9 (-15.100000000000067) | explore_proba 0.22\n",
            "Epoch 019/100 | Loss 0.0150 | Win/lose count 8.0/21.1 (-13.100000000000032) | explore_proba 0.21\n",
            "Epoch 020/100 | Loss 0.0068 | Win/lose count 13.2/19.8 (-6.600000000000012) | explore_proba 0.20\n",
            "Epoch 021/100 | Loss 0.0055 | Win/lose count 16.4/18.0 (-1.5999999999999837) | explore_proba 0.19\n",
            "Epoch 022/100 | Loss 0.0059 | Win/lose count 10.0/20.6 (-10.600000000000026) | explore_proba 0.18\n",
            "Epoch 023/100 | Loss 0.0081 | Win/lose count 12.0/22.1 (-10.100000000000035) | explore_proba 0.17\n",
            "Epoch 024/100 | Loss 0.0100 | Win/lose count 12.0/20.1 (-8.100000000000021) | explore_proba 0.16\n",
            "Epoch 025/100 | Loss 0.0090 | Win/lose count 11.2/21.3 (-10.100000000000039) | explore_proba 0.16\n",
            "Epoch 026/100 | Loss 0.0069 | Win/lose count 13.6/25.7 (-12.100000000000064) | explore_proba 0.15\n",
            "Epoch 027/100 | Loss 0.0132 | Win/lose count 9.2/21.8 (-12.600000000000044) | explore_proba 0.15\n",
            "Epoch 028/100 | Loss 0.0125 | Win/lose count 14.0/19.6 (-5.599999999999994) | explore_proba 0.14\n",
            "Epoch 029/100 | Loss 0.0039 | Win/lose count 14.0/22.6 (-8.60000000000003) | explore_proba 0.14\n",
            "Epoch 030/100 | Loss 0.0054 | Win/lose count 7.2/18.3 (-11.099999999999987) | explore_proba 0.14\n",
            "Epoch 031/100 | Loss 0.0114 | Win/lose count 7.2/25.3 (-18.100000000000072) | explore_proba 0.13\n",
            "Epoch 032/100 | Loss 0.0204 | Win/lose count 11.6/20.2 (-8.60000000000002) | explore_proba 0.13\n",
            "Epoch 033/100 | Loss 0.0062 | Win/lose count 16.0/22.1 (-6.100000000000048) | explore_proba 0.13\n",
            "Epoch 034/100 | Loss 0.0095 | Win/lose count 15.2/19.3 (-4.099999999999996) | explore_proba 0.12\n",
            "Epoch 035/100 | Loss 0.0064 | Win/lose count 13.6/19.7 (-6.0999999999999925) | explore_proba 0.12\n",
            "Epoch 036/100 | Loss 0.0049 | Win/lose count 17.2/16.8 (0.40000000000003055) | explore_proba 0.12\n",
            "Epoch 037/100 | Loss 0.0090 | Win/lose count 14.8/19.4 (-4.6000000000000085) | explore_proba 0.12\n",
            "Epoch 038/100 | Loss 0.0092 | Win/lose count 13.2/19.8 (-6.600000000000016) | explore_proba 0.12\n",
            "Epoch 039/100 | Loss 0.0071 | Win/lose count 22.4/15.5 (6.90000000000002) | explore_proba 0.11\n",
            "Epoch 040/100 | Loss 0.0072 | Win/lose count 11.2/19.3 (-8.099999999999993) | explore_proba 0.11\n",
            "Epoch 041/100 | Loss 0.0128 | Win/lose count 8.0/22.1 (-14.100000000000053) | explore_proba 0.11\n",
            "Epoch 042/100 | Loss 0.0109 | Win/lose count 16.0/20.1 (-4.100000000000005) | explore_proba 0.11\n",
            "Epoch 043/100 | Loss 0.0117 | Win/lose count 15.6/17.2 (-1.5999999999999552) | explore_proba 0.11\n",
            "Epoch 044/100 | Loss 0.0082 | Win/lose count 15.2/20.3 (-5.099999999999985) | explore_proba 0.11\n",
            "Epoch 045/100 | Loss 0.0082 | Win/lose count 10.4/20.5 (-10.099999999999993) | explore_proba 0.11\n",
            "Epoch 046/100 | Loss 0.0177 | Win/lose count 13.2/18.8 (-5.599999999999994) | explore_proba 0.11\n",
            "Epoch 047/100 | Loss 0.0072 | Win/lose count 18.0/19.6 (-1.6000000000000192) | explore_proba 0.11\n",
            "Epoch 048/100 | Loss 0.0087 | Win/lose count 18.0/18.6 (-0.6000000000000014) | explore_proba 0.11\n",
            "Epoch 049/100 | Loss 0.0070 | Win/lose count 17.2/22.8 (-5.600000000000051) | explore_proba 0.11\n",
            "Epoch 050/100 | Loss 0.0233 | Win/lose count 12.0/17.1 (-5.099999999999968) | explore_proba 0.10\n",
            "Epoch 051/100 | Loss 0.0161 | Win/lose count 6.8/20.4 (-13.600000000000026) | explore_proba 0.10\n",
            "Epoch 052/100 | Loss 0.0180 | Win/lose count 12.8/20.9 (-8.099999999999996) | explore_proba 0.10\n",
            "Epoch 053/100 | Loss 0.0061 | Win/lose count 15.6/21.2 (-5.600000000000026) | explore_proba 0.10\n",
            "Epoch 054/100 | Loss 0.0060 | Win/lose count 6.8/21.4 (-14.600000000000023) | explore_proba 0.10\n",
            "Epoch 055/100 | Loss 0.0088 | Win/lose count 9.2/20.8 (-11.600000000000026) | explore_proba 0.10\n",
            "Epoch 056/100 | Loss 0.0100 | Win/lose count 17.2/18.8 (-1.600000000000005) | explore_proba 0.10\n",
            "Epoch 057/100 | Loss 0.0079 | Win/lose count 13.2/18.8 (-5.599999999999991) | explore_proba 0.10\n",
            "Epoch 058/100 | Loss 0.0086 | Win/lose count 5.2/21.8 (-16.600000000000048) | explore_proba 0.10\n",
            "Epoch 059/100 | Loss 0.0108 | Win/lose count 16.0/20.1 (-4.100000000000019) | explore_proba 0.10\n",
            "Epoch 060/100 | Loss 0.0105 | Win/lose count 15.2/22.3 (-7.100000000000039) | explore_proba 0.10\n",
            "Epoch 061/100 | Loss 0.0107 | Win/lose count 12.8/20.9 (-8.100000000000032) | explore_proba 0.10\n",
            "Epoch 062/100 | Loss 0.0119 | Win/lose count 15.6/17.2 (-1.5999999999999694) | explore_proba 0.10\n",
            "Epoch 063/100 | Loss 0.0258 | Win/lose count 17.2/20.8 (-3.6000000000000334) | explore_proba 0.10\n",
            "Epoch 064/100 | Loss 0.0097 | Win/lose count 5.2/19.8 (-14.600000000000012) | explore_proba 0.10\n",
            "Epoch 065/100 | Loss 0.0118 | Win/lose count 10.0/18.6 (-8.599999999999994) | explore_proba 0.10\n",
            "Epoch 066/100 | Loss 0.0072 | Win/lose count 15.6/19.2 (-3.600000000000005) | explore_proba 0.10\n",
            "Epoch 067/100 | Loss 0.0083 | Win/lose count 8.8/20.9 (-12.100000000000035) | explore_proba 0.10\n",
            "Epoch 068/100 | Loss 0.0128 | Win/lose count 13.2/19.8 (-6.600000000000016) | explore_proba 0.10\n",
            "Epoch 069/100 | Loss 0.0099 | Win/lose count 9.2/21.8 (-12.600000000000048) | explore_proba 0.10\n",
            "Epoch 070/100 | Loss 0.0088 | Win/lose count 14.0/20.6 (-6.600000000000023) | explore_proba 0.10\n",
            "Epoch 071/100 | Loss 0.0155 | Win/lose count 15.2/18.3 (-3.099999999999989) | explore_proba 0.10\n",
            "Epoch 072/100 | Loss 0.0116 | Win/lose count 19.2/16.3 (2.9000000000000306) | explore_proba 0.10\n",
            "Epoch 073/100 | Loss 0.0117 | Win/lose count 16.4/23.0 (-6.600000000000033) | explore_proba 0.10\n",
            "Epoch 074/100 | Loss 0.0092 | Win/lose count 16.0/21.1 (-5.1000000000000405) | explore_proba 0.10\n",
            "Epoch 075/100 | Loss 0.0252 | Win/lose count 17.2/18.8 (-1.600000000000005) | explore_proba 0.10\n",
            "Epoch 076/100 | Loss 0.0066 | Win/lose count 16.8/16.9 (-0.0999999999999659) | explore_proba 0.10\n",
            "Epoch 077/100 | Loss 0.0052 | Win/lose count 18.4/19.5 (-1.1000000000000014) | explore_proba 0.10\n",
            "Epoch 078/100 | Loss 0.0301 | Win/lose count 17.2/21.8 (-4.600000000000037) | explore_proba 0.10\n",
            "Epoch 079/100 | Loss 0.0138 | Win/lose count 9.2/23.8 (-14.600000000000033) | explore_proba 0.10\n",
            "Epoch 080/100 | Loss 0.0295 | Win/lose count 10.8/19.4 (-8.599999999999987) | explore_proba 0.10\n",
            "Epoch 081/100 | Loss 0.0140 | Win/lose count 8.0/24.1 (-16.100000000000037) | explore_proba 0.10\n",
            "Epoch 082/100 | Loss 0.0103 | Win/lose count 16.8/21.9 (-5.100000000000033) | explore_proba 0.10\n",
            "Epoch 083/100 | Loss 0.0049 | Win/lose count 18.0/17.6 (0.40000000000001634) | explore_proba 0.10\n",
            "Epoch 084/100 | Loss 0.0129 | Win/lose count 17.2/16.8 (0.4000000000000341) | explore_proba 0.10\n",
            "Epoch 085/100 | Loss 0.0080 | Win/lose count 15.6/19.2 (-3.599999999999998) | explore_proba 0.10\n",
            "Epoch 086/100 | Loss 0.0092 | Win/lose count 13.2/18.8 (-5.599999999999994) | explore_proba 0.10\n",
            "Epoch 087/100 | Loss 0.0097 | Win/lose count 11.6/18.2 (-6.599999999999987) | explore_proba 0.10\n",
            "Epoch 088/100 | Loss 0.0089 | Win/lose count 18.0/17.6 (0.4000000000000128) | explore_proba 0.10\n",
            "Epoch 089/100 | Loss 0.0083 | Win/lose count 16.8/16.9 (-0.0999999999999659) | explore_proba 0.10\n",
            "Epoch 090/100 | Loss 0.0068 | Win/lose count 14.4/16.5 (-2.099999999999957) | explore_proba 0.10\n",
            "Epoch 091/100 | Loss 0.0141 | Win/lose count 14.0/19.6 (-5.59999999999998) | explore_proba 0.10\n",
            "Epoch 092/100 | Loss 0.0381 | Win/lose count 15.2/18.3 (-3.0999999999999854) | explore_proba 0.10\n",
            "Epoch 093/100 | Loss 0.0113 | Win/lose count 14.0/19.6 (-5.600000000000012) | explore_proba 0.10\n",
            "Epoch 094/100 | Loss 0.0209 | Win/lose count 12.4/20.0 (-7.600000000000019) | explore_proba 0.10\n",
            "Epoch 095/100 | Loss 0.0088 | Win/lose count 15.6/19.2 (-3.6000000000000014) | explore_proba 0.10\n",
            "Epoch 096/100 | Loss 0.0140 | Win/lose count 19.6/17.2 (2.400000000000013) | explore_proba 0.10\n",
            "Epoch 097/100 | Loss 0.0190 | Win/lose count 14.4/23.5 (-9.100000000000056) | explore_proba 0.10\n",
            "Epoch 098/100 | Loss 0.0070 | Win/lose count 21.2/19.8 (1.3999999999999666) | explore_proba 0.10\n",
            "Epoch 099/100 | Loss 0.0084 | Win/lose count 17.6/17.7 (-0.09999999999998366) | explore_proba 0.10\n"
          ],
          "name": "stdout"
        },
        {
          "output_type": "execute_result",
          "data": {
            "text/html": [
              "<video alt=\"test\" controls>\n",
              "                <source src=\"data:video/mp4;base64,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\" type=\"video/mp4\" />\n",
              "             </video>"
            ],
            "text/plain": [
              "<IPython.core.display.HTML object>"
            ]
          },
          "metadata": {
            "tags": []
          },
          "execution_count": 110
        }
      ]
    },
    {
      "metadata": {
        "id": "j3F5ihijchb4",
        "colab_type": "code",
        "outputId": "c93d6a8d-fd60-461a-97d5-bc1cf59b15b7",
        "colab": {
          "base_uri": "https://localhost:8080/",
          "height": 1871
        }
      },
      "cell_type": "code",
      "source": [
        "# Training\n",
        "env = EnvironmentExploring(grid_size=size, max_time=T, temperature=0.3)\n",
        "agent_cnn = DQN_CNN(size, lr=1e-3, epsilon = 0.9, memory_size=2000, batch_size = 32,n_state=3)\n",
        "train_explore(agent_cnn, env, epochs_train, prefix='cnn_train_explore')\n",
        "HTML(display_videos('cnn_train_explore100.mp4'))"
      ],
      "execution_count": 0,
      "outputs": [
        {
          "output_type": "stream",
          "text": [
            "Epoch 000/100 | Loss 0.0140 | Win/lose count 12.4/32.0 (-19.6000000000001) | explore_proba 0.82\n",
            "Epoch 001/100 | Loss 0.0050 | Win/lose count 9.6/25.7 (-16.100000000000072) | explore_proba 0.75\n",
            "Epoch 002/100 | Loss 0.0077 | Win/lose count 9.6/32.7 (-23.100000000000115) | explore_proba 0.69\n",
            "Epoch 003/100 | Loss 0.0073 | Win/lose count 9.2/25.8 (-16.600000000000062) | explore_proba 0.64\n",
            "Epoch 004/100 | Loss 0.0105 | Win/lose count 6.8/34.4 (-27.600000000000126) | explore_proba 0.58\n",
            "Epoch 005/100 | Loss 0.0396 | Win/lose count 6.4/27.5 (-21.100000000000108) | explore_proba 0.54\n",
            "Epoch 006/100 | Loss 0.0308 | Win/lose count 6.0/29.6 (-23.600000000000104) | explore_proba 0.50\n",
            "Epoch 007/100 | Loss 0.0092 | Win/lose count 11.6/33.2 (-21.60000000000011) | explore_proba 0.46\n",
            "Epoch 008/100 | Loss 0.0061 | Win/lose count 17.2/28.8 (-11.600000000000055) | explore_proba 0.42\n",
            "Epoch 009/100 | Loss 0.0066 | Win/lose count 11.2/24.3 (-13.100000000000053) | explore_proba 0.39\n",
            "Epoch 010/100 | Loss 0.0086 | Win/lose count 11.6/23.2 (-11.600000000000033) | explore_proba 0.36\n",
            "Epoch 011/100 | Loss 0.0055 | Win/lose count 10.0/20.6 (-10.600000000000009) | explore_proba 0.34\n",
            "Epoch 012/100 | Loss 0.0079 | Win/lose count 8.8/25.9 (-17.1000000000001) | explore_proba 0.32\n",
            "Epoch 013/100 | Loss 0.0092 | Win/lose count 9.2/28.8 (-19.60000000000011) | explore_proba 0.30\n",
            "Epoch 014/100 | Loss 0.0064 | Win/lose count 12.4/26.0 (-13.600000000000055) | explore_proba 0.28\n",
            "Epoch 015/100 | Loss 0.0274 | Win/lose count 15.6/23.2 (-7.600000000000044) | explore_proba 0.26\n",
            "Epoch 016/100 | Loss 0.0075 | Win/lose count 15.2/24.3 (-9.100000000000074) | explore_proba 0.24\n",
            "Epoch 017/100 | Loss 0.0085 | Win/lose count 10.4/21.5 (-11.100000000000039) | explore_proba 0.23\n",
            "Epoch 018/100 | Loss 0.0082 | Win/lose count 11.2/20.3 (-9.100000000000021) | explore_proba 0.22\n",
            "Epoch 019/100 | Loss 0.0069 | Win/lose count 9.6/26.7 (-17.1000000000001) | explore_proba 0.21\n",
            "Epoch 020/100 | Loss 0.0093 | Win/lose count 14.4/19.5 (-5.099999999999989) | explore_proba 0.20\n",
            "Epoch 021/100 | Loss 0.0147 | Win/lose count 18.0/18.6 (-0.6000000000000014) | explore_proba 0.19\n",
            "Epoch 022/100 | Loss 0.0066 | Win/lose count 15.2/20.3 (-5.099999999999996) | explore_proba 0.18\n",
            "Epoch 023/100 | Loss 0.0101 | Win/lose count 14.0/21.6 (-7.600000000000026) | explore_proba 0.17\n",
            "Epoch 024/100 | Loss 0.0087 | Win/lose count 17.6/18.7 (-1.1000000000000014) | explore_proba 0.16\n",
            "Epoch 025/100 | Loss 0.0383 | Win/lose count 10.0/21.6 (-11.60000000000004) | explore_proba 0.16\n",
            "Epoch 026/100 | Loss 0.0068 | Win/lose count 14.8/22.4 (-7.600000000000005) | explore_proba 0.15\n",
            "Epoch 027/100 | Loss 0.0112 | Win/lose count 8.0/25.1 (-17.10000000000006) | explore_proba 0.15\n",
            "Epoch 028/100 | Loss 0.0377 | Win/lose count 13.2/21.8 (-8.600000000000016) | explore_proba 0.14\n",
            "Epoch 029/100 | Loss 0.0050 | Win/lose count 15.6/20.2 (-4.600000000000001) | explore_proba 0.14\n",
            "Epoch 030/100 | Loss 0.0082 | Win/lose count 13.2/20.8 (-7.599999999999998) | explore_proba 0.14\n",
            "Epoch 031/100 | Loss 0.0130 | Win/lose count 11.2/19.3 (-8.100000000000007) | explore_proba 0.13\n",
            "Epoch 032/100 | Loss 0.0116 | Win/lose count 17.2/23.8 (-6.600000000000019) | explore_proba 0.13\n",
            "Epoch 033/100 | Loss 0.0075 | Win/lose count 10.0/22.6 (-12.600000000000058) | explore_proba 0.13\n",
            "Epoch 034/100 | Loss 0.0064 | Win/lose count 18.4/16.5 (1.9000000000000306) | explore_proba 0.12\n",
            "Epoch 035/100 | Loss 0.0379 | Win/lose count 15.2/18.3 (-3.099999999999989) | explore_proba 0.12\n",
            "Epoch 036/100 | Loss 0.0095 | Win/lose count 16.0/19.1 (-3.100000000000005) | explore_proba 0.12\n",
            "Epoch 037/100 | Loss 0.0086 | Win/lose count 17.6/18.7 (-1.0999999999999872) | explore_proba 0.12\n",
            "Epoch 038/100 | Loss 0.0085 | Win/lose count 10.4/22.5 (-12.100000000000042) | explore_proba 0.12\n",
            "Epoch 039/100 | Loss 0.0077 | Win/lose count 14.4/20.5 (-6.100000000000007) | explore_proba 0.11\n",
            "Epoch 040/100 | Loss 0.0152 | Win/lose count 17.6/18.7 (-1.1000000000000014) | explore_proba 0.11\n",
            "Epoch 041/100 | Loss 0.0100 | Win/lose count 14.8/16.4 (-1.5999999999999552) | explore_proba 0.11\n",
            "Epoch 042/100 | Loss 0.0077 | Win/lose count 18.8/20.4 (-1.6000000000000192) | explore_proba 0.11\n",
            "Epoch 043/100 | Loss 0.0095 | Win/lose count 14.0/18.6 (-4.599999999999991) | explore_proba 0.11\n",
            "Epoch 044/100 | Loss 0.0460 | Win/lose count 15.6/24.2 (-8.600000000000026) | explore_proba 0.11\n",
            "Epoch 045/100 | Loss 0.0065 | Win/lose count 17.6/16.7 (0.9000000000000306) | explore_proba 0.11\n",
            "Epoch 046/100 | Loss 0.0073 | Win/lose count 14.8/21.4 (-6.6000000000000405) | explore_proba 0.11\n",
            "Epoch 047/100 | Loss 0.0103 | Win/lose count 18.4/24.5 (-6.100000000000051) | explore_proba 0.11\n",
            "Epoch 048/100 | Loss 0.0259 | Win/lose count 19.6/16.2 (3.4000000000000306) | explore_proba 0.11\n",
            "Epoch 049/100 | Loss 0.0101 | Win/lose count 10.0/24.6 (-14.600000000000044) | explore_proba 0.11\n",
            "Epoch 050/100 | Loss 0.0054 | Win/lose count 18.4/21.5 (-3.1000000000000227) | explore_proba 0.10\n",
            "Epoch 051/100 | Loss 0.0110 | Win/lose count 20.8/18.9 (1.8999999999999773) | explore_proba 0.10\n",
            "Epoch 052/100 | Loss 0.0092 | Win/lose count 18.8/16.4 (2.4000000000000306) | explore_proba 0.10\n",
            "Epoch 053/100 | Loss 0.0562 | Win/lose count 11.2/20.3 (-9.100000000000021) | explore_proba 0.10\n",
            "Epoch 054/100 | Loss 0.0164 | Win/lose count 12.4/25.0 (-12.60000000000008) | explore_proba 0.10\n",
            "Epoch 055/100 | Loss 0.0113 | Win/lose count 15.2/17.3 (-2.0999999999999712) | explore_proba 0.10\n",
            "Epoch 056/100 | Loss 0.0089 | Win/lose count 20.4/17.0 (3.4000000000000163) | explore_proba 0.10\n",
            "Epoch 057/100 | Loss 0.0081 | Win/lose count 13.6/24.7 (-11.100000000000067) | explore_proba 0.10\n",
            "Epoch 058/100 | Loss 0.0107 | Win/lose count 16.0/16.1 (-0.09999999999995168) | explore_proba 0.10\n",
            "Epoch 059/100 | Loss 0.0120 | Win/lose count 18.0/16.6 (1.400000000000034) | explore_proba 0.10\n",
            "Epoch 060/100 | Loss 0.0105 | Win/lose count 12.4/22.0 (-9.600000000000033) | explore_proba 0.10\n",
            "Epoch 061/100 | Loss 0.0065 | Win/lose count 20.0/17.1 (2.9000000000000234) | explore_proba 0.10\n",
            "Epoch 062/100 | Loss 0.0073 | Win/lose count 12.4/21.0 (-8.600000000000016) | explore_proba 0.10\n",
            "Epoch 063/100 | Loss 0.0358 | Win/lose count 14.8/19.4 (-4.599999999999998) | explore_proba 0.10\n",
            "Epoch 064/100 | Loss 0.0092 | Win/lose count 16.8/19.9 (-3.100000000000019) | explore_proba 0.10\n",
            "Epoch 065/100 | Loss 0.0129 | Win/lose count 17.2/19.8 (-2.6000000000000227) | explore_proba 0.10\n",
            "Epoch 066/100 | Loss 0.0147 | Win/lose count 11.2/20.3 (-9.100000000000007) | explore_proba 0.10\n",
            "Epoch 067/100 | Loss 0.0493 | Win/lose count 14.4/21.5 (-7.100000000000003) | explore_proba 0.10\n",
            "Epoch 068/100 | Loss 0.0122 | Win/lose count 7.2/19.3 (-12.100000000000001) | explore_proba 0.10\n",
            "Epoch 069/100 | Loss 0.0148 | Win/lose count 10.8/19.4 (-8.600000000000009) | explore_proba 0.10\n",
            "Epoch 070/100 | Loss 0.0111 | Win/lose count 14.8/16.4 (-1.5999999999999552) | explore_proba 0.10\n",
            "Epoch 071/100 | Loss 0.0077 | Win/lose count 14.0/19.6 (-5.600000000000012) | explore_proba 0.10\n",
            "Epoch 072/100 | Loss 0.0147 | Win/lose count 19.2/22.3 (-3.100000000000069) | explore_proba 0.10\n",
            "Epoch 073/100 | Loss 0.0083 | Win/lose count 15.6/20.2 (-4.599999999999998) | explore_proba 0.10\n",
            "Epoch 074/100 | Loss 0.0071 | Win/lose count 18.4/19.5 (-1.1000000000000156) | explore_proba 0.10\n",
            "Epoch 075/100 | Loss 0.0181 | Win/lose count 12.0/18.1 (-6.099999999999985) | explore_proba 0.10\n",
            "Epoch 076/100 | Loss 0.0108 | Win/lose count 22.0/15.6 (6.400000000000025) | explore_proba 0.10\n",
            "Epoch 077/100 | Loss 0.0511 | Win/lose count 16.4/20.0 (-3.600000000000005) | explore_proba 0.10\n",
            "Epoch 078/100 | Loss 0.0084 | Win/lose count 14.0/19.6 (-5.600000000000012) | explore_proba 0.10\n",
            "Epoch 079/100 | Loss 0.0384 | Win/lose count 13.6/20.7 (-7.10000000000001) | explore_proba 0.10\n",
            "Epoch 080/100 | Loss 0.0093 | Win/lose count 12.0/19.1 (-7.1) | explore_proba 0.10\n",
            "Epoch 081/100 | Loss 0.0063 | Win/lose count 14.4/18.5 (-4.0999999999999925) | explore_proba 0.10\n",
            "Epoch 082/100 | Loss 0.0215 | Win/lose count 14.8/24.4 (-9.600000000000076) | explore_proba 0.10\n",
            "Epoch 083/100 | Loss 0.0068 | Win/lose count 16.8/22.9 (-6.100000000000019) | explore_proba 0.10\n",
            "Epoch 084/100 | Loss 0.0150 | Win/lose count 11.6/19.2 (-7.599999999999998) | explore_proba 0.10\n",
            "Epoch 085/100 | Loss 0.0079 | Win/lose count 16.0/20.1 (-4.100000000000001) | explore_proba 0.10\n",
            "Epoch 086/100 | Loss 0.0245 | Win/lose count 15.2/19.3 (-4.100000000000003) | explore_proba 0.10\n",
            "Epoch 087/100 | Loss 0.0076 | Win/lose count 15.2/19.3 (-4.1) | explore_proba 0.10\n",
            "Epoch 088/100 | Loss 0.0105 | Win/lose count 12.4/20.0 (-7.600000000000019) | explore_proba 0.10\n",
            "Epoch 089/100 | Loss 0.0166 | Win/lose count 5.2/20.8 (-15.60000000000003) | explore_proba 0.10\n",
            "Epoch 090/100 | Loss 0.0079 | Win/lose count 17.2/20.8 (-3.600000000000019) | explore_proba 0.10\n",
            "Epoch 091/100 | Loss 0.0141 | Win/lose count 13.2/19.8 (-6.600000000000016) | explore_proba 0.10\n",
            "Epoch 092/100 | Loss 0.0139 | Win/lose count 13.6/25.7 (-12.100000000000025) | explore_proba 0.10\n",
            "Epoch 093/100 | Loss 0.0299 | Win/lose count 19.2/17.3 (1.9000000000000163) | explore_proba 0.10\n",
            "Epoch 094/100 | Loss 0.0107 | Win/lose count 16.8/18.9 (-2.099999999999987) | explore_proba 0.10\n",
            "Epoch 095/100 | Loss 0.0175 | Win/lose count 13.2/22.8 (-9.600000000000033) | explore_proba 0.10\n",
            "Epoch 096/100 | Loss 0.0112 | Win/lose count 18.0/21.6 (-3.6000000000000227) | explore_proba 0.10\n",
            "Epoch 097/100 | Loss 0.0158 | Win/lose count 10.0/22.6 (-12.600000000000023) | explore_proba 0.10\n",
            "Epoch 098/100 | Loss 0.0218 | Win/lose count 17.2/17.8 (-0.5999999999999694) | explore_proba 0.10\n",
            "Epoch 099/100 | Loss 0.0109 | Win/lose count 14.4/22.5 (-8.100000000000028) | explore_proba 0.10\n"
          ],
          "name": "stdout"
        },
        {
          "output_type": "execute_result",
          "data": {
            "text/html": [
              "<video alt=\"test\" controls>\n",
              "                <source src=\"data:video/mp4;base64,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\" type=\"video/mp4\" />\n",
              "             </video>"
            ],
            "text/plain": [
              "<IPython.core.display.HTML object>"
            ]
          },
          "metadata": {
            "tags": []
          },
          "execution_count": 113
        }
      ]
    },
    {
      "metadata": {
        "id": "cCDO7d2Jchb8",
        "colab_type": "code",
        "outputId": "5b647f36-a88c-4576-a0bd-28ae795ed0c6",
        "colab": {
          "base_uri": "https://localhost:8080/",
          "height": 528
        }
      },
      "cell_type": "code",
      "source": [
        "# Evaluation\n",
        "test(agent,env,epochs_test,prefix='fc_test_explore')\n",
        "HTML(display_videos('fc_test_explore19.mp4'))"
      ],
      "execution_count": 0,
      "outputs": [
        {
          "output_type": "stream",
          "text": [
            "Win/lose count 24.5/5.0. Average score (19.5)\n",
            "Win/lose count 14.0/2.0. Average score (15.75)\n",
            "Win/lose count 19.0/2.0. Average score (16.166666666666668)\n",
            "Win/lose count 20.5/4.0. Average score (16.25)\n",
            "Win/lose count 16.0/3.0. Average score (15.6)\n",
            "Win/lose count 18.5/1.0. Average score (15.916666666666666)\n",
            "Win/lose count 15.5/4.0. Average score (15.285714285714286)\n",
            "Win/lose count 20.5/3.0. Average score (15.5625)\n",
            "Win/lose count 23.5/2.0. Average score (16.22222222222222)\n",
            "Win/lose count 11.0/3.0. Average score (15.4)\n",
            "Win/lose count 20.5/3.0. Average score (15.590909090909092)\n",
            "Win/lose count 19.5/7.0. Average score (15.333333333333334)\n",
            "Win/lose count 10.5/3.0. Average score (14.73076923076923)\n",
            "Win/lose count 18.0/0. Average score (14.964285714285714)\n",
            "Win/lose count 14.0/6.0. Average score (14.5)\n",
            "Win/lose count 25.0/5.0. Average score (14.84375)\n",
            "Win/lose count 21.0/5.0. Average score (14.911764705882353)\n",
            "Win/lose count 17.5/1.0. Average score (15.0)\n",
            "Win/lose count 22.5/7.0. Average score (15.026315789473685)\n",
            "Win/lose count 19.5/6.0. Average score (14.95)\n",
            "Final score: 14.95\n"
          ],
          "name": "stdout"
        },
        {
          "output_type": "execute_result",
          "data": {
            "text/html": [
              "<video alt=\"test\" controls>\n",
              "                <source src=\"data:video/mp4;base64,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\" type=\"video/mp4\" />\n",
              "             </video>"
            ],
            "text/plain": [
              "<IPython.core.display.HTML object>"
            ]
          },
          "metadata": {
            "tags": []
          },
          "execution_count": 111
        }
      ]
    },
    {
      "metadata": {
        "id": "gN6cdVw3F0D-",
        "colab_type": "code",
        "outputId": "fd1fdc2c-8dd5-47ce-ccf0-f1c518d8c8ba",
        "colab": {
          "base_uri": "https://localhost:8080/",
          "height": 650
        }
      },
      "cell_type": "code",
      "source": [
        "# Evaluation\n",
        "test(agent_cnn,env,epochs_test,prefix='cnn_test_explore')\n",
        "HTML(display_videos('cnn_test_explore19.mp4'))"
      ],
      "execution_count": 0,
      "outputs": [
        {
          "output_type": "stream",
          "text": [
            "Win/lose count 25.0/4.0. Average score (21.0)\n",
            "Win/lose count 22.5/4.0. Average score (19.75)\n",
            "Win/lose count 18.0/6.0. Average score (17.166666666666668)\n",
            "Win/lose count 23.0/4.0. Average score (17.625)\n",
            "Win/lose count 17.0/1.0. Average score (17.3)\n",
            "Win/lose count 21.0/1.0. Average score (17.75)\n",
            "Win/lose count 20.0/2.0. Average score (17.785714285714285)\n",
            "Win/lose count 11.5/0. Average score (17.0)\n",
            "Win/lose count 21.5/2.0. Average score (17.27777777777778)\n",
            "Win/lose count 25.5/2.0. Average score (17.9)\n",
            "Win/lose count 22.5/6.0. Average score (17.772727272727273)\n",
            "Win/lose count 21.0/1.0. Average score (17.958333333333332)\n",
            "Win/lose count 22.5/6.0. Average score (17.846153846153847)\n",
            "Win/lose count 18.5/3.0. Average score (17.678571428571427)\n",
            "Win/lose count 26.5/5.0. Average score (17.933333333333334)\n",
            "Win/lose count 21.5/1.0. Average score (18.09375)\n",
            "Win/lose count 17.0/3.0. Average score (17.852941176470587)\n",
            "Win/lose count 13.0/1.0. Average score (17.52777777777778)\n",
            "Win/lose count 21.5/4.0. Average score (17.526315789473685)\n",
            "Win/lose count 23.5/3.0. Average score (17.675)\n",
            "Final score: 17.675\n"
          ],
          "name": "stdout"
        },
        {
          "output_type": "execute_result",
          "data": {
            "text/html": [
              "<video alt=\"test\" controls>\n",
              "                <source src=\"data:video/mp4;base64,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\" type=\"video/mp4\" />\n",
              "             </video>"
            ],
            "text/plain": [
              "<IPython.core.display.HTML object>"
            ]
          },
          "metadata": {
            "tags": []
          },
          "execution_count": 114
        }
      ]
    },
    {
      "metadata": {
        "id": "NGt8H9zBek0D",
        "colab_type": "code",
        "outputId": "9a1b821d-ef11-48ee-8433-11ff3df44767",
        "colab": {
          "base_uri": "https://localhost:8080/",
          "height": 293
        }
      },
      "cell_type": "code",
      "source": [
        "HTML(display_videos('cnn_test_explore6.mp4'))"
      ],
      "execution_count": 0,
      "outputs": [
        {
          "output_type": "execute_result",
          "data": {
            "text/html": [
              "<video alt=\"test\" controls>\n",
              "                <source src=\"data:video/mp4;base64,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\" type=\"video/mp4\" />\n",
              "             </video>"
            ],
            "text/plain": [
              "<IPython.core.display.HTML object>"
            ]
          },
          "metadata": {
            "tags": []
          },
          "execution_count": 121
        }
      ]
    },
    {
      "metadata": {
        "id": "mV6AnnV5chb_",
        "colab_type": "text"
      },
      "cell_type": "markdown",
      "source": [
        "***\n",
        "***\n",
        "__BONUS question__ Use the expert DQN from the previous question to generate some winning games. Train a model that mimicks its behavior. Compare the performances."
      ]
    },
    {
      "metadata": {
        "id": "PtEYAIgichcA",
        "colab_type": "text"
      },
      "cell_type": "markdown",
      "source": [
        "***"
      ]
    }
  ]
}